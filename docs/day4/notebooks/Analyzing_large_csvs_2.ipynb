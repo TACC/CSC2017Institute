{
 "cells": [
  {
   "cell_type": "markdown",
   "metadata": {},
   "source": [
    "# Analyzing Large CSVs Part 2\n",
    "\n",
    "In this section, we turn to the 2015 Yellow Cab Data Set. The kinds of operations we use are similar to those from the previous section. (Special thanks to Matt Rocklin, founder of dask and many other great open source Python libraries, for the permission to reuse the materials below).\n",
    "\n",
    "> Remember that all CSV files need to be downloaded to all nodes.\n",
    "\n",
    "Let's start by reading in the dataset. We can use the `read_csv()` function and pass it all the files using a glob. We also need to have pandas parse the date fields.\n",
    "\n",
    "```\n",
    "csv = '/root/yellow_tripdata_2015-*'\n",
    "df = dd.read_csv(csv, parse_dates=['tpep_pickup_datetime', 'tpep_dropoff_datetime'])\n",
    "```\n",
    "\n",
    "Do a similar basic exploration of the data. You could begin with these questions:\n",
    "  * How many total cab trips are in the dataset?\n",
    "  * How do the trip distances vary as a function of the number of passengers?\n",
    "  * # compute average tip, as a fraction of the fare amount, and explore how that fraction varies as a function of i) the hour of the day and ii) the day of the week.\n",
    "\n",
    "\n",
    "The payment type is an integer which codes for the following payment types:\n",
    "```\n",
    "1: 'Credit Card'\n",
    "2: 'Cash', \n",
    "3: 'No Charge', \n",
    "4: 'Dispute', \n",
    "5: 'Unknown', \n",
    "6: 'Voided trip'\n",
    "```\n",
    "You could investigate:\n",
    "  * How do tip amounts vary by payment type?\n",
    "  * How do tips on cash compare to tips on credit cards?\n",
    "  \n",
    "Finally, let's explore the value of computing an index. Let's find an efficient solution to getting the first 10 cab rides of every month.\n",
    "\n",
    "To set an index on column, we use\n",
    "```\n",
    "df.set_index('<column_name')\n",
    "```\n",
    "however we must the persist that to cluster by sending it to `client.persist()`. \n",
    "\n",
    "One approach to the above:\n",
    "  * Set an index on the pickup time date time\n",
    "  * for each month, call head on the first day of the month\n",
    "Look at ways to efficiently plot these data."
   ]
  },
  {
   "cell_type": "code",
   "execution_count": null,
   "metadata": {
    "collapsed": true
   },
   "outputs": [],
   "source": []
  }
 ],
 "metadata": {
  "kernelspec": {
   "display_name": "Python 3",
   "language": "python",
   "name": "python3"
  },
  "language_info": {
   "codemirror_mode": {
    "name": "ipython",
    "version": 3
   },
   "file_extension": ".py",
   "mimetype": "text/x-python",
   "name": "python",
   "nbconvert_exporter": "python",
   "pygments_lexer": "ipython3",
   "version": "3.6.1"
  }
 },
 "nbformat": 4,
 "nbformat_minor": 2
}
