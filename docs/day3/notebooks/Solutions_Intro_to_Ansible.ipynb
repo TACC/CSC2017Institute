{
 "cells": [
  {
   "cell_type": "markdown",
   "metadata": {},
   "source": [
    "## Solutions\n",
    "\n",
    "### Example host file\n",
    "\n",
    "```\n",
    "day3-1 ansible_ssh_host=10.10.100.15 ansible_ssh_user=root ansible_ssh_private_key_file=/root/test-jfs-key.pem\n",
    "\n",
    "day3-2 ansible_ssh_host=10.10.100.4 ansible_ssh_user=root ansible_ssh_private_key_file=/root/test-jfs-key.pem\n",
    "\n",
    "day3-3 ansible_ssh_host=10.10.100.11 ansible_ssh_user=root ansible_ssh_private_key_file=/root/test-jfs-key.pem\n",
    "```\n",
    "\n",
    "### Check memory and processors\n",
    "\n",
    "```\n",
    "$ ansible all -i hosts -a 'nproc'\n",
    "\n",
    "$ ansible all -i hosts -a 'free -h'\n",
    "```"
   ]
  }
 ],
 "metadata": {
  "kernelspec": {
   "display_name": "Python 3",
   "language": "python",
   "name": "python3"
  },
  "language_info": {
   "codemirror_mode": {
    "name": "ipython",
    "version": 3
   },
   "file_extension": ".py",
   "mimetype": "text/x-python",
   "name": "python",
   "nbconvert_exporter": "python",
   "pygments_lexer": "ipython3",
   "version": "3.6.1"
  }
 },
 "nbformat": 4,
 "nbformat_minor": 2
}
