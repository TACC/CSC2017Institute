{
 "cells": [
  {
   "cell_type": "markdown",
   "metadata": {},
   "source": [
    "### Solution to exercise 1"
   ]
  },
  {
   "cell_type": "code",
   "execution_count": 1,
   "metadata": {},
   "outputs": [
    {
     "name": "stdout",
     "output_type": "stream",
     "text": [
      "Enter you github password: ········\n"
     ]
    }
   ],
   "source": [
    "import requests\n",
    "from getpass import getpass\n",
    "pd = getpass(prompt=\"Enter you github password: \")\n",
    "user = \"joestubbs5@gmail.com\"\n",
    "rsp = requests.get(\"https://api.github.com/user\", auth=(user, pd))"
   ]
  },
  {
   "cell_type": "code",
   "execution_count": 2,
   "metadata": {},
   "outputs": [
    {
     "data": {
      "text/plain": [
       "{'avatar_url': 'https://avatars0.githubusercontent.com/u/843091?v=4',\n",
       " 'bio': None,\n",
       " 'blog': '',\n",
       " 'collaborators': 0,\n",
       " 'company': 'TACC',\n",
       " 'created_at': '2011-06-10T22:17:38Z',\n",
       " 'disk_usage': 3006,\n",
       " 'email': 'joestubbs5@gmail.com',\n",
       " 'events_url': 'https://api.github.com/users/joestubbs/events{/privacy}',\n",
       " 'followers': 5,\n",
       " 'followers_url': 'https://api.github.com/users/joestubbs/followers',\n",
       " 'following': 2,\n",
       " 'following_url': 'https://api.github.com/users/joestubbs/following{/other_user}',\n",
       " 'gists_url': 'https://api.github.com/users/joestubbs/gists{/gist_id}',\n",
       " 'gravatar_id': '',\n",
       " 'hireable': None,\n",
       " 'html_url': 'https://github.com/joestubbs',\n",
       " 'id': 843091,\n",
       " 'location': 'Austin, TX',\n",
       " 'login': 'joestubbs',\n",
       " 'name': 'Joe Stubbs',\n",
       " 'organizations_url': 'https://api.github.com/users/joestubbs/orgs',\n",
       " 'owned_private_repos': 0,\n",
       " 'plan': {'collaborators': 0,\n",
       "  'name': 'free',\n",
       "  'private_repos': 0,\n",
       "  'space': 976562499},\n",
       " 'private_gists': 0,\n",
       " 'public_gists': 1,\n",
       " 'public_repos': 8,\n",
       " 'received_events_url': 'https://api.github.com/users/joestubbs/received_events',\n",
       " 'repos_url': 'https://api.github.com/users/joestubbs/repos',\n",
       " 'site_admin': False,\n",
       " 'starred_url': 'https://api.github.com/users/joestubbs/starred{/owner}{/repo}',\n",
       " 'subscriptions_url': 'https://api.github.com/users/joestubbs/subscriptions',\n",
       " 'total_private_repos': 0,\n",
       " 'two_factor_authentication': False,\n",
       " 'type': 'User',\n",
       " 'updated_at': '2017-06-29T01:50:42Z',\n",
       " 'url': 'https://api.github.com/users/joestubbs'}"
      ]
     },
     "execution_count": 2,
     "metadata": {},
     "output_type": "execute_result"
    }
   ],
   "source": [
    "rsp.json()"
   ]
  },
  {
   "cell_type": "markdown",
   "metadata": {},
   "source": [
    "### Solution to exercise 2"
   ]
  },
  {
   "cell_type": "code",
   "execution_count": 6,
   "metadata": {
    "collapsed": true
   },
   "outputs": [],
   "source": [
    "repo = {'name': 'csc2017-test', 'description': 'a test repo created for the CSC institute.'}\n",
    "rsp = requests.post(\"https://api.github.com/user/repos\", json=repo, auth=(user, pd))"
   ]
  },
  {
   "cell_type": "code",
   "execution_count": 7,
   "metadata": {},
   "outputs": [
    {
     "data": {
      "text/plain": [
       "201"
      ]
     },
     "execution_count": 7,
     "metadata": {},
     "output_type": "execute_result"
    }
   ],
   "source": [
    "rsp.status_code"
   ]
  },
  {
   "cell_type": "code",
   "execution_count": 8,
   "metadata": {},
   "outputs": [
    {
     "data": {
      "text/plain": [
       "{'allow_merge_commit': True,\n",
       " 'allow_rebase_merge': True,\n",
       " 'allow_squash_merge': True,\n",
       " 'archive_url': 'https://api.github.com/repos/joestubbs/csc2017-test/{archive_format}{/ref}',\n",
       " 'assignees_url': 'https://api.github.com/repos/joestubbs/csc2017-test/assignees{/user}',\n",
       " 'blobs_url': 'https://api.github.com/repos/joestubbs/csc2017-test/git/blobs{/sha}',\n",
       " 'branches_url': 'https://api.github.com/repos/joestubbs/csc2017-test/branches{/branch}',\n",
       " 'clone_url': 'https://github.com/joestubbs/csc2017-test.git',\n",
       " 'collaborators_url': 'https://api.github.com/repos/joestubbs/csc2017-test/collaborators{/collaborator}',\n",
       " 'comments_url': 'https://api.github.com/repos/joestubbs/csc2017-test/comments{/number}',\n",
       " 'commits_url': 'https://api.github.com/repos/joestubbs/csc2017-test/commits{/sha}',\n",
       " 'compare_url': 'https://api.github.com/repos/joestubbs/csc2017-test/compare/{base}...{head}',\n",
       " 'contents_url': 'https://api.github.com/repos/joestubbs/csc2017-test/contents/{+path}',\n",
       " 'contributors_url': 'https://api.github.com/repos/joestubbs/csc2017-test/contributors',\n",
       " 'created_at': '2017-07-23T00:37:56Z',\n",
       " 'default_branch': 'master',\n",
       " 'deployments_url': 'https://api.github.com/repos/joestubbs/csc2017-test/deployments',\n",
       " 'description': 'a test repo created for the CSC institute.',\n",
       " 'downloads_url': 'https://api.github.com/repos/joestubbs/csc2017-test/downloads',\n",
       " 'events_url': 'https://api.github.com/repos/joestubbs/csc2017-test/events',\n",
       " 'fork': False,\n",
       " 'forks': 0,\n",
       " 'forks_count': 0,\n",
       " 'forks_url': 'https://api.github.com/repos/joestubbs/csc2017-test/forks',\n",
       " 'full_name': 'joestubbs/csc2017-test',\n",
       " 'git_commits_url': 'https://api.github.com/repos/joestubbs/csc2017-test/git/commits{/sha}',\n",
       " 'git_refs_url': 'https://api.github.com/repos/joestubbs/csc2017-test/git/refs{/sha}',\n",
       " 'git_tags_url': 'https://api.github.com/repos/joestubbs/csc2017-test/git/tags{/sha}',\n",
       " 'git_url': 'git://github.com/joestubbs/csc2017-test.git',\n",
       " 'has_downloads': True,\n",
       " 'has_issues': True,\n",
       " 'has_pages': False,\n",
       " 'has_projects': True,\n",
       " 'has_wiki': True,\n",
       " 'homepage': None,\n",
       " 'hooks_url': 'https://api.github.com/repos/joestubbs/csc2017-test/hooks',\n",
       " 'html_url': 'https://github.com/joestubbs/csc2017-test',\n",
       " 'id': 98065736,\n",
       " 'issue_comment_url': 'https://api.github.com/repos/joestubbs/csc2017-test/issues/comments{/number}',\n",
       " 'issue_events_url': 'https://api.github.com/repos/joestubbs/csc2017-test/issues/events{/number}',\n",
       " 'issues_url': 'https://api.github.com/repos/joestubbs/csc2017-test/issues{/number}',\n",
       " 'keys_url': 'https://api.github.com/repos/joestubbs/csc2017-test/keys{/key_id}',\n",
       " 'labels_url': 'https://api.github.com/repos/joestubbs/csc2017-test/labels{/name}',\n",
       " 'language': None,\n",
       " 'languages_url': 'https://api.github.com/repos/joestubbs/csc2017-test/languages',\n",
       " 'merges_url': 'https://api.github.com/repos/joestubbs/csc2017-test/merges',\n",
       " 'milestones_url': 'https://api.github.com/repos/joestubbs/csc2017-test/milestones{/number}',\n",
       " 'mirror_url': None,\n",
       " 'name': 'csc2017-test',\n",
       " 'network_count': 0,\n",
       " 'notifications_url': 'https://api.github.com/repos/joestubbs/csc2017-test/notifications{?since,all,participating}',\n",
       " 'open_issues': 0,\n",
       " 'open_issues_count': 0,\n",
       " 'owner': {'avatar_url': 'https://avatars0.githubusercontent.com/u/843091?v=4',\n",
       "  'events_url': 'https://api.github.com/users/joestubbs/events{/privacy}',\n",
       "  'followers_url': 'https://api.github.com/users/joestubbs/followers',\n",
       "  'following_url': 'https://api.github.com/users/joestubbs/following{/other_user}',\n",
       "  'gists_url': 'https://api.github.com/users/joestubbs/gists{/gist_id}',\n",
       "  'gravatar_id': '',\n",
       "  'html_url': 'https://github.com/joestubbs',\n",
       "  'id': 843091,\n",
       "  'login': 'joestubbs',\n",
       "  'organizations_url': 'https://api.github.com/users/joestubbs/orgs',\n",
       "  'received_events_url': 'https://api.github.com/users/joestubbs/received_events',\n",
       "  'repos_url': 'https://api.github.com/users/joestubbs/repos',\n",
       "  'site_admin': False,\n",
       "  'starred_url': 'https://api.github.com/users/joestubbs/starred{/owner}{/repo}',\n",
       "  'subscriptions_url': 'https://api.github.com/users/joestubbs/subscriptions',\n",
       "  'type': 'User',\n",
       "  'url': 'https://api.github.com/users/joestubbs'},\n",
       " 'permissions': {'admin': True, 'pull': True, 'push': True},\n",
       " 'private': False,\n",
       " 'pulls_url': 'https://api.github.com/repos/joestubbs/csc2017-test/pulls{/number}',\n",
       " 'pushed_at': '2017-07-23T00:37:56Z',\n",
       " 'releases_url': 'https://api.github.com/repos/joestubbs/csc2017-test/releases{/id}',\n",
       " 'size': 0,\n",
       " 'ssh_url': 'git@github.com:joestubbs/csc2017-test.git',\n",
       " 'stargazers_count': 0,\n",
       " 'stargazers_url': 'https://api.github.com/repos/joestubbs/csc2017-test/stargazers',\n",
       " 'statuses_url': 'https://api.github.com/repos/joestubbs/csc2017-test/statuses/{sha}',\n",
       " 'subscribers_count': 1,\n",
       " 'subscribers_url': 'https://api.github.com/repos/joestubbs/csc2017-test/subscribers',\n",
       " 'subscription_url': 'https://api.github.com/repos/joestubbs/csc2017-test/subscription',\n",
       " 'svn_url': 'https://github.com/joestubbs/csc2017-test',\n",
       " 'tags_url': 'https://api.github.com/repos/joestubbs/csc2017-test/tags',\n",
       " 'teams_url': 'https://api.github.com/repos/joestubbs/csc2017-test/teams',\n",
       " 'trees_url': 'https://api.github.com/repos/joestubbs/csc2017-test/git/trees{/sha}',\n",
       " 'updated_at': '2017-07-23T00:37:56Z',\n",
       " 'url': 'https://api.github.com/repos/joestubbs/csc2017-test',\n",
       " 'watchers': 0,\n",
       " 'watchers_count': 0}"
      ]
     },
     "execution_count": 8,
     "metadata": {},
     "output_type": "execute_result"
    }
   ],
   "source": [
    "rsp.json()"
   ]
  },
  {
   "cell_type": "markdown",
   "metadata": {},
   "source": [
    "### Solution to exercise 3"
   ]
  },
  {
   "cell_type": "code",
   "execution_count": 17,
   "metadata": {
    "collapsed": true
   },
   "outputs": [],
   "source": [
    "repo = {'name': 'csc2017-test', 'description': 'a test repo created for the CSC institute.'}\n",
    "rsp = requests.get(\"https://api.github.com/repos/joestubbs/csc2017-test\", json=repo, auth=(user, pd))"
   ]
  },
  {
   "cell_type": "code",
   "execution_count": 18,
   "metadata": {},
   "outputs": [
    {
     "data": {
      "text/plain": [
       "{'allow_merge_commit': True,\n",
       " 'allow_rebase_merge': True,\n",
       " 'allow_squash_merge': True,\n",
       " 'archive_url': 'https://api.github.com/repos/joestubbs/csc2017-test/{archive_format}{/ref}',\n",
       " 'assignees_url': 'https://api.github.com/repos/joestubbs/csc2017-test/assignees{/user}',\n",
       " 'blobs_url': 'https://api.github.com/repos/joestubbs/csc2017-test/git/blobs{/sha}',\n",
       " 'branches_url': 'https://api.github.com/repos/joestubbs/csc2017-test/branches{/branch}',\n",
       " 'clone_url': 'https://github.com/joestubbs/csc2017-test.git',\n",
       " 'collaborators_url': 'https://api.github.com/repos/joestubbs/csc2017-test/collaborators{/collaborator}',\n",
       " 'comments_url': 'https://api.github.com/repos/joestubbs/csc2017-test/comments{/number}',\n",
       " 'commits_url': 'https://api.github.com/repos/joestubbs/csc2017-test/commits{/sha}',\n",
       " 'compare_url': 'https://api.github.com/repos/joestubbs/csc2017-test/compare/{base}...{head}',\n",
       " 'contents_url': 'https://api.github.com/repos/joestubbs/csc2017-test/contents/{+path}',\n",
       " 'contributors_url': 'https://api.github.com/repos/joestubbs/csc2017-test/contributors',\n",
       " 'created_at': '2017-07-23T00:37:56Z',\n",
       " 'default_branch': 'master',\n",
       " 'deployments_url': 'https://api.github.com/repos/joestubbs/csc2017-test/deployments',\n",
       " 'description': 'a test repo created for the CSC institute.',\n",
       " 'downloads_url': 'https://api.github.com/repos/joestubbs/csc2017-test/downloads',\n",
       " 'events_url': 'https://api.github.com/repos/joestubbs/csc2017-test/events',\n",
       " 'fork': False,\n",
       " 'forks': 0,\n",
       " 'forks_count': 0,\n",
       " 'forks_url': 'https://api.github.com/repos/joestubbs/csc2017-test/forks',\n",
       " 'full_name': 'joestubbs/csc2017-test',\n",
       " 'git_commits_url': 'https://api.github.com/repos/joestubbs/csc2017-test/git/commits{/sha}',\n",
       " 'git_refs_url': 'https://api.github.com/repos/joestubbs/csc2017-test/git/refs{/sha}',\n",
       " 'git_tags_url': 'https://api.github.com/repos/joestubbs/csc2017-test/git/tags{/sha}',\n",
       " 'git_url': 'git://github.com/joestubbs/csc2017-test.git',\n",
       " 'has_downloads': True,\n",
       " 'has_issues': True,\n",
       " 'has_pages': False,\n",
       " 'has_projects': True,\n",
       " 'has_wiki': True,\n",
       " 'homepage': None,\n",
       " 'hooks_url': 'https://api.github.com/repos/joestubbs/csc2017-test/hooks',\n",
       " 'html_url': 'https://github.com/joestubbs/csc2017-test',\n",
       " 'id': 98065736,\n",
       " 'issue_comment_url': 'https://api.github.com/repos/joestubbs/csc2017-test/issues/comments{/number}',\n",
       " 'issue_events_url': 'https://api.github.com/repos/joestubbs/csc2017-test/issues/events{/number}',\n",
       " 'issues_url': 'https://api.github.com/repos/joestubbs/csc2017-test/issues{/number}',\n",
       " 'keys_url': 'https://api.github.com/repos/joestubbs/csc2017-test/keys{/key_id}',\n",
       " 'labels_url': 'https://api.github.com/repos/joestubbs/csc2017-test/labels{/name}',\n",
       " 'language': None,\n",
       " 'languages_url': 'https://api.github.com/repos/joestubbs/csc2017-test/languages',\n",
       " 'merges_url': 'https://api.github.com/repos/joestubbs/csc2017-test/merges',\n",
       " 'milestones_url': 'https://api.github.com/repos/joestubbs/csc2017-test/milestones{/number}',\n",
       " 'mirror_url': None,\n",
       " 'name': 'csc2017-test',\n",
       " 'network_count': 0,\n",
       " 'notifications_url': 'https://api.github.com/repos/joestubbs/csc2017-test/notifications{?since,all,participating}',\n",
       " 'open_issues': 0,\n",
       " 'open_issues_count': 0,\n",
       " 'owner': {'avatar_url': 'https://avatars0.githubusercontent.com/u/843091?v=4',\n",
       "  'events_url': 'https://api.github.com/users/joestubbs/events{/privacy}',\n",
       "  'followers_url': 'https://api.github.com/users/joestubbs/followers',\n",
       "  'following_url': 'https://api.github.com/users/joestubbs/following{/other_user}',\n",
       "  'gists_url': 'https://api.github.com/users/joestubbs/gists{/gist_id}',\n",
       "  'gravatar_id': '',\n",
       "  'html_url': 'https://github.com/joestubbs',\n",
       "  'id': 843091,\n",
       "  'login': 'joestubbs',\n",
       "  'organizations_url': 'https://api.github.com/users/joestubbs/orgs',\n",
       "  'received_events_url': 'https://api.github.com/users/joestubbs/received_events',\n",
       "  'repos_url': 'https://api.github.com/users/joestubbs/repos',\n",
       "  'site_admin': False,\n",
       "  'starred_url': 'https://api.github.com/users/joestubbs/starred{/owner}{/repo}',\n",
       "  'subscriptions_url': 'https://api.github.com/users/joestubbs/subscriptions',\n",
       "  'type': 'User',\n",
       "  'url': 'https://api.github.com/users/joestubbs'},\n",
       " 'permissions': {'admin': True, 'pull': True, 'push': True},\n",
       " 'private': False,\n",
       " 'pulls_url': 'https://api.github.com/repos/joestubbs/csc2017-test/pulls{/number}',\n",
       " 'pushed_at': '2017-07-23T00:37:56Z',\n",
       " 'releases_url': 'https://api.github.com/repos/joestubbs/csc2017-test/releases{/id}',\n",
       " 'size': 0,\n",
       " 'ssh_url': 'git@github.com:joestubbs/csc2017-test.git',\n",
       " 'stargazers_count': 0,\n",
       " 'stargazers_url': 'https://api.github.com/repos/joestubbs/csc2017-test/stargazers',\n",
       " 'statuses_url': 'https://api.github.com/repos/joestubbs/csc2017-test/statuses/{sha}',\n",
       " 'subscribers_count': 1,\n",
       " 'subscribers_url': 'https://api.github.com/repos/joestubbs/csc2017-test/subscribers',\n",
       " 'subscription_url': 'https://api.github.com/repos/joestubbs/csc2017-test/subscription',\n",
       " 'svn_url': 'https://github.com/joestubbs/csc2017-test',\n",
       " 'tags_url': 'https://api.github.com/repos/joestubbs/csc2017-test/tags',\n",
       " 'teams_url': 'https://api.github.com/repos/joestubbs/csc2017-test/teams',\n",
       " 'trees_url': 'https://api.github.com/repos/joestubbs/csc2017-test/git/trees{/sha}',\n",
       " 'updated_at': '2017-07-23T00:37:56Z',\n",
       " 'url': 'https://api.github.com/repos/joestubbs/csc2017-test',\n",
       " 'watchers': 0,\n",
       " 'watchers_count': 0}"
      ]
     },
     "execution_count": 18,
     "metadata": {},
     "output_type": "execute_result"
    }
   ],
   "source": [
    "rsp.json()"
   ]
  },
  {
   "cell_type": "markdown",
   "metadata": {},
   "source": [
    "### Solution to exercise 4"
   ]
  },
  {
   "cell_type": "code",
   "execution_count": 21,
   "metadata": {
    "collapsed": true
   },
   "outputs": [],
   "source": [
    "repo = {'name': 'csc2017-test', 'description': 'a test repo created for the CSC institute.', 'has_projects': False, }\n",
    "rsp = requests.patch(\"https://api.github.com/repos/joestubbs/csc2017-test\", json=repo, auth=(user, pd))"
   ]
  },
  {
   "cell_type": "code",
   "execution_count": 22,
   "metadata": {},
   "outputs": [
    {
     "data": {
      "text/plain": [
       "{'allow_merge_commit': True,\n",
       " 'allow_rebase_merge': True,\n",
       " 'allow_squash_merge': True,\n",
       " 'archive_url': 'https://api.github.com/repos/joestubbs/csc2017-test/{archive_format}{/ref}',\n",
       " 'assignees_url': 'https://api.github.com/repos/joestubbs/csc2017-test/assignees{/user}',\n",
       " 'blobs_url': 'https://api.github.com/repos/joestubbs/csc2017-test/git/blobs{/sha}',\n",
       " 'branches_url': 'https://api.github.com/repos/joestubbs/csc2017-test/branches{/branch}',\n",
       " 'clone_url': 'https://github.com/joestubbs/csc2017-test.git',\n",
       " 'collaborators_url': 'https://api.github.com/repos/joestubbs/csc2017-test/collaborators{/collaborator}',\n",
       " 'comments_url': 'https://api.github.com/repos/joestubbs/csc2017-test/comments{/number}',\n",
       " 'commits_url': 'https://api.github.com/repos/joestubbs/csc2017-test/commits{/sha}',\n",
       " 'compare_url': 'https://api.github.com/repos/joestubbs/csc2017-test/compare/{base}...{head}',\n",
       " 'contents_url': 'https://api.github.com/repos/joestubbs/csc2017-test/contents/{+path}',\n",
       " 'contributors_url': 'https://api.github.com/repos/joestubbs/csc2017-test/contributors',\n",
       " 'created_at': '2017-07-23T00:37:56Z',\n",
       " 'default_branch': 'master',\n",
       " 'deployments_url': 'https://api.github.com/repos/joestubbs/csc2017-test/deployments',\n",
       " 'description': 'a test repo created for the CSC institute.',\n",
       " 'downloads_url': 'https://api.github.com/repos/joestubbs/csc2017-test/downloads',\n",
       " 'events_url': 'https://api.github.com/repos/joestubbs/csc2017-test/events',\n",
       " 'fork': False,\n",
       " 'forks': 0,\n",
       " 'forks_count': 0,\n",
       " 'forks_url': 'https://api.github.com/repos/joestubbs/csc2017-test/forks',\n",
       " 'full_name': 'joestubbs/csc2017-test',\n",
       " 'git_commits_url': 'https://api.github.com/repos/joestubbs/csc2017-test/git/commits{/sha}',\n",
       " 'git_refs_url': 'https://api.github.com/repos/joestubbs/csc2017-test/git/refs{/sha}',\n",
       " 'git_tags_url': 'https://api.github.com/repos/joestubbs/csc2017-test/git/tags{/sha}',\n",
       " 'git_url': 'git://github.com/joestubbs/csc2017-test.git',\n",
       " 'has_downloads': True,\n",
       " 'has_issues': True,\n",
       " 'has_pages': False,\n",
       " 'has_projects': False,\n",
       " 'has_wiki': True,\n",
       " 'homepage': None,\n",
       " 'hooks_url': 'https://api.github.com/repos/joestubbs/csc2017-test/hooks',\n",
       " 'html_url': 'https://github.com/joestubbs/csc2017-test',\n",
       " 'id': 98065736,\n",
       " 'issue_comment_url': 'https://api.github.com/repos/joestubbs/csc2017-test/issues/comments{/number}',\n",
       " 'issue_events_url': 'https://api.github.com/repos/joestubbs/csc2017-test/issues/events{/number}',\n",
       " 'issues_url': 'https://api.github.com/repos/joestubbs/csc2017-test/issues{/number}',\n",
       " 'keys_url': 'https://api.github.com/repos/joestubbs/csc2017-test/keys{/key_id}',\n",
       " 'labels_url': 'https://api.github.com/repos/joestubbs/csc2017-test/labels{/name}',\n",
       " 'language': None,\n",
       " 'languages_url': 'https://api.github.com/repos/joestubbs/csc2017-test/languages',\n",
       " 'merges_url': 'https://api.github.com/repos/joestubbs/csc2017-test/merges',\n",
       " 'milestones_url': 'https://api.github.com/repos/joestubbs/csc2017-test/milestones{/number}',\n",
       " 'mirror_url': None,\n",
       " 'name': 'csc2017-test',\n",
       " 'network_count': 0,\n",
       " 'notifications_url': 'https://api.github.com/repos/joestubbs/csc2017-test/notifications{?since,all,participating}',\n",
       " 'open_issues': 0,\n",
       " 'open_issues_count': 0,\n",
       " 'owner': {'avatar_url': 'https://avatars0.githubusercontent.com/u/843091?v=4',\n",
       "  'events_url': 'https://api.github.com/users/joestubbs/events{/privacy}',\n",
       "  'followers_url': 'https://api.github.com/users/joestubbs/followers',\n",
       "  'following_url': 'https://api.github.com/users/joestubbs/following{/other_user}',\n",
       "  'gists_url': 'https://api.github.com/users/joestubbs/gists{/gist_id}',\n",
       "  'gravatar_id': '',\n",
       "  'html_url': 'https://github.com/joestubbs',\n",
       "  'id': 843091,\n",
       "  'login': 'joestubbs',\n",
       "  'organizations_url': 'https://api.github.com/users/joestubbs/orgs',\n",
       "  'received_events_url': 'https://api.github.com/users/joestubbs/received_events',\n",
       "  'repos_url': 'https://api.github.com/users/joestubbs/repos',\n",
       "  'site_admin': False,\n",
       "  'starred_url': 'https://api.github.com/users/joestubbs/starred{/owner}{/repo}',\n",
       "  'subscriptions_url': 'https://api.github.com/users/joestubbs/subscriptions',\n",
       "  'type': 'User',\n",
       "  'url': 'https://api.github.com/users/joestubbs'},\n",
       " 'permissions': {'admin': True, 'pull': True, 'push': True},\n",
       " 'private': False,\n",
       " 'pulls_url': 'https://api.github.com/repos/joestubbs/csc2017-test/pulls{/number}',\n",
       " 'pushed_at': '2017-07-23T00:37:56Z',\n",
       " 'releases_url': 'https://api.github.com/repos/joestubbs/csc2017-test/releases{/id}',\n",
       " 'size': 0,\n",
       " 'ssh_url': 'git@github.com:joestubbs/csc2017-test.git',\n",
       " 'stargazers_count': 0,\n",
       " 'stargazers_url': 'https://api.github.com/repos/joestubbs/csc2017-test/stargazers',\n",
       " 'statuses_url': 'https://api.github.com/repos/joestubbs/csc2017-test/statuses/{sha}',\n",
       " 'subscribers_count': 1,\n",
       " 'subscribers_url': 'https://api.github.com/repos/joestubbs/csc2017-test/subscribers',\n",
       " 'subscription_url': 'https://api.github.com/repos/joestubbs/csc2017-test/subscription',\n",
       " 'svn_url': 'https://github.com/joestubbs/csc2017-test',\n",
       " 'tags_url': 'https://api.github.com/repos/joestubbs/csc2017-test/tags',\n",
       " 'teams_url': 'https://api.github.com/repos/joestubbs/csc2017-test/teams',\n",
       " 'trees_url': 'https://api.github.com/repos/joestubbs/csc2017-test/git/trees{/sha}',\n",
       " 'updated_at': '2017-07-23T00:37:56Z',\n",
       " 'url': 'https://api.github.com/repos/joestubbs/csc2017-test',\n",
       " 'watchers': 0,\n",
       " 'watchers_count': 0}"
      ]
     },
     "execution_count": 22,
     "metadata": {},
     "output_type": "execute_result"
    }
   ],
   "source": [
    "rsp.json()"
   ]
  },
  {
   "cell_type": "markdown",
   "metadata": {},
   "source": [
    "### Solution to exercise 5"
   ]
  },
  {
   "cell_type": "code",
   "execution_count": 23,
   "metadata": {
    "collapsed": true
   },
   "outputs": [],
   "source": [
    "rsp = requests.delete(\"https://api.github.com/repos/joestubbs/csc2017-test\", auth=(user, pd))"
   ]
  },
  {
   "cell_type": "code",
   "execution_count": 25,
   "metadata": {},
   "outputs": [
    {
     "data": {
      "text/plain": [
       "204"
      ]
     },
     "execution_count": 25,
     "metadata": {},
     "output_type": "execute_result"
    }
   ],
   "source": [
    "rsp.status_code"
   ]
  },
  {
   "cell_type": "code",
   "execution_count": 26,
   "metadata": {},
   "outputs": [
    {
     "data": {
      "text/plain": [
       "b''"
      ]
     },
     "execution_count": 26,
     "metadata": {},
     "output_type": "execute_result"
    }
   ],
   "source": [
    "rsp.content"
   ]
  },
  {
   "cell_type": "code",
   "execution_count": null,
   "metadata": {
    "collapsed": true
   },
   "outputs": [],
   "source": []
  }
 ],
 "metadata": {
  "kernelspec": {
   "display_name": "Python 3",
   "language": "python",
   "name": "python3"
  },
  "language_info": {
   "codemirror_mode": {
    "name": "ipython",
    "version": 3
   },
   "file_extension": ".py",
   "mimetype": "text/x-python",
   "name": "python",
   "nbconvert_exporter": "python",
   "pygments_lexer": "ipython3",
   "version": "3.6.1"
  }
 },
 "nbformat": 4,
 "nbformat_minor": 2
}
