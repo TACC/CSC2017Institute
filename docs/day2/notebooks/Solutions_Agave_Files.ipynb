{
 "cells": [
  {
   "cell_type": "markdown",
   "metadata": {},
   "source": [
    "# Solutions to Agave Files Exercises"
   ]
  },
  {
   "cell_type": "markdown",
   "metadata": {},
   "source": [
    "To get started, we need to generate a set of Agave developer client keys (OAuth credentials). Generating OAuth clients uses HTTP Basic Authentication (https://tools.ietf.org/html/rfc2617) with your TACC username and password."
   ]
  },
  {
   "cell_type": "code",
   "execution_count": 2,
   "metadata": {
    "collapsed": true
   },
   "outputs": [],
   "source": [
    "# import the requests library\n",
    "import requests\n",
    "\n",
    "# import getpass to prompt for a password\n",
    "from getpass import getpass"
   ]
  },
  {
   "cell_type": "code",
   "execution_count": 3,
   "metadata": {
    "collapsed": true
   },
   "outputs": [],
   "source": [
    "# the base URL for interacting with the Agave API\n",
    "base_url = 'https://api.tacc.utexas.edu'"
   ]
  },
  {
   "cell_type": "code",
   "execution_count": 4,
   "metadata": {},
   "outputs": [
    {
     "name": "stdout",
     "output_type": "stream",
     "text": [
      "Hello jstubbs. Please enter your TACC password: ········\n"
     ]
    }
   ],
   "source": [
    "# Set up your TACC credentials. Modify the username appropriately\n",
    "username = 'jstubbs'\n",
    "password = getpass(prompt='Hello {}. Please enter your TACC password: '.format(username))"
   ]
  },
  {
   "cell_type": "code",
   "execution_count": 5,
   "metadata": {
    "collapsed": true
   },
   "outputs": [],
   "source": [
    "# enter your client name, key and secret generated in the previous module here\n",
    "client_name = 'cic_institute'\n",
    "key = 'f_9vaEvm3oxCnNe9Z4VoxRXZGwca'\n",
    "secret = 'MTXYtMiwOmxNI2mRLrwOwG_9Vpwa'"
   ]
  },
  {
   "cell_type": "code",
   "execution_count": 6,
   "metadata": {},
   "outputs": [
    {
     "data": {
      "text/plain": [
       "200"
      ]
     },
     "execution_count": 6,
     "metadata": {},
     "output_type": "execute_result"
    }
   ],
   "source": [
    "# create a fresh access and refresh token\n",
    "data = {'username': username,\n",
    "       'password': password,\n",
    "       'grant_type': 'password',\n",
    "       'scope': 'PRODUCTION'}\n",
    "rsp = requests.post('{}/token'.format(base_url), data=data, auth=(key, secret))\n",
    "rsp.status_code"
   ]
  },
  {
   "cell_type": "code",
   "execution_count": 7,
   "metadata": {},
   "outputs": [],
   "source": [
    "access_token = rsp.json()['access_token']\n",
    "refresh_token = rsp.json()['refresh_token']"
   ]
  },
  {
   "cell_type": "code",
   "execution_count": 8,
   "metadata": {},
   "outputs": [],
   "source": [
    "# build the Authorization header in a headers dictionary\n",
    "headers = {'Authorization': 'Bearer {}'.format(access_token)}\n",
    "\n",
    "# id of the storage system for our class\n",
    "system_id = 'cic.storage'"
   ]
  },
  {
   "cell_type": "code",
   "execution_count": 9,
   "metadata": {},
   "outputs": [
    {
     "data": {
      "text/plain": [
       "200"
      ]
     },
     "execution_count": 9,
     "metadata": {},
     "output_type": "execute_result"
    }
   ],
   "source": [
    "# use the files service to list the files in our home directory, which is given by our username.\n",
    "rsp = requests.get('{}/files/v2/listings/system/{}/{}'.format(base_url, system_id, username), headers=headers)\n",
    "rsp.status_code"
   ]
  },
  {
   "cell_type": "code",
   "execution_count": 10,
   "metadata": {},
   "outputs": [
    {
     "data": {
      "text/plain": [
       "[{'_links': {'history': {'href': 'https://api.tacc.utexas.edu/files/v2/history/system/cic.storage//home/jstubbs'},\n",
       "   'metadata': {'href': 'https://api.tacc.utexas.edu/meta/v2/data?q=%7B%22associationIds%22%3A%227129190038640988647-242ac113-0001-002%22%7D'},\n",
       "   'self': {'href': 'https://api.tacc.utexas.edu/files/v2/media/system/cic.storage//home/jstubbs'},\n",
       "   'system': {'href': 'https://api.tacc.utexas.edu/systems/v2/cic.storage'}},\n",
       "  'format': 'folder',\n",
       "  'lastModified': '2017-07-20T18:28:02.000-05:00',\n",
       "  'length': 29,\n",
       "  'mimeType': 'text/directory',\n",
       "  'name': '.',\n",
       "  'path': '/home/jstubbs',\n",
       "  'permissions': 'ALL',\n",
       "  'system': 'cic.storage',\n",
       "  'type': 'dir'},\n",
       " {'_links': {'self': {'href': 'https://api.tacc.utexas.edu/files/v2/media/system/cic.storage//home/jstubbs/foo'},\n",
       "   'system': {'href': 'https://api.tacc.utexas.edu/systems/v2/cic.storage'}},\n",
       "  'format': 'raw',\n",
       "  'lastModified': '2017-07-20T13:28:30.000-05:00',\n",
       "  'length': 5,\n",
       "  'mimeType': 'application/octet-stream',\n",
       "  'name': 'foo',\n",
       "  'path': '/home/jstubbs/foo',\n",
       "  'permissions': 'READ_WRITE',\n",
       "  'system': 'cic.storage',\n",
       "  'type': 'file'},\n",
       " {'_links': {'self': {'href': 'https://api.tacc.utexas.edu/files/v2/media/system/cic.storage//home/jstubbs/test'},\n",
       "   'system': {'href': 'https://api.tacc.utexas.edu/systems/v2/cic.storage'}},\n",
       "  'format': 'folder',\n",
       "  'lastModified': '2017-07-20T18:38:08.000-05:00',\n",
       "  'length': 21,\n",
       "  'mimeType': 'text/directory',\n",
       "  'name': 'test',\n",
       "  'path': '/home/jstubbs/test',\n",
       "  'permissions': 'ALL',\n",
       "  'system': 'cic.storage',\n",
       "  'type': 'dir'}]"
      ]
     },
     "execution_count": 10,
     "metadata": {},
     "output_type": "execute_result"
    }
   ],
   "source": [
    "rsp.json()['result']"
   ]
  },
  {
   "cell_type": "code",
   "execution_count": 11,
   "metadata": {},
   "outputs": [
    {
     "data": {
      "text/plain": [
       "201"
      ]
     },
     "execution_count": 11,
     "metadata": {},
     "output_type": "execute_result"
    }
   ],
   "source": [
    "# create a directory called 'test123' inside our home directory. To do this, we make a PUT request \n",
    "# to the files service and we pass a specific payload\n",
    "# note as well that we use the 'media' endpoint instead of the listings endpoint.\n",
    "data = {'action': 'mkdir', 'path': 'test123'}\n",
    "rsp = requests.put(url='{}/files/v2/media/system/{}/{}'.format(base_url, system_id, username), data=data, headers=headers)\n",
    "rsp.status_code"
   ]
  },
  {
   "cell_type": "code",
   "execution_count": 12,
   "metadata": {},
   "outputs": [
    {
     "data": {
      "text/plain": [
       "{'_links': {'history': {'href': 'https://api.tacc.utexas.edu/files/v2/history/system/cic.storage//home/jstubbs/test123'},\n",
       "  'profile': {'href': 'https://api.tacc.utexas.edu/profiles/v2/jstubbs'},\n",
       "  'self': {'href': 'https://api.tacc.utexas.edu/files/v2/media/system/cic.storage//home/jstubbs/test123'},\n",
       "  'system': {'href': 'https://api.tacc.utexas.edu/systems/v2/cic.storage'}},\n",
       " 'internalUsername': None,\n",
       " 'lastModified': '2017-07-22T22:48:55.972-05:00',\n",
       " 'name': 'test123',\n",
       " 'nativeFormat': 'dir',\n",
       " 'owner': 'jstubbs',\n",
       " 'path': 'jstubbs/test123',\n",
       " 'source': None,\n",
       " 'status': 'TRANSFORMING_COMPLETED',\n",
       " 'systemId': 'cic.storage',\n",
       " 'uuid': '2733614603201605145-242ac113-0001-002'}"
      ]
     },
     "execution_count": 12,
     "metadata": {},
     "output_type": "execute_result"
    }
   ],
   "source": [
    "# check the response\n",
    "rsp.json()['result']"
   ]
  },
  {
   "cell_type": "code",
   "execution_count": 13,
   "metadata": {},
   "outputs": [
    {
     "data": {
      "text/plain": [
       "200"
      ]
     },
     "execution_count": 13,
     "metadata": {},
     "output_type": "execute_result"
    }
   ],
   "source": [
    "# now, let's list our home directory again and check that the directory is there\n",
    "rsp = requests.get('{}/files/v2/listings/system/{}/{}'.format(base_url, system_id, username), headers=headers)\n",
    "rsp.status_code"
   ]
  },
  {
   "cell_type": "code",
   "execution_count": 14,
   "metadata": {},
   "outputs": [
    {
     "data": {
      "text/plain": [
       "[{'_links': {'history': {'href': 'https://api.tacc.utexas.edu/files/v2/history/system/cic.storage//home/jstubbs'},\n",
       "   'metadata': {'href': 'https://api.tacc.utexas.edu/meta/v2/data?q=%7B%22associationIds%22%3A%227129190038640988647-242ac113-0001-002%22%7D'},\n",
       "   'self': {'href': 'https://api.tacc.utexas.edu/files/v2/media/system/cic.storage//home/jstubbs'},\n",
       "   'system': {'href': 'https://api.tacc.utexas.edu/systems/v2/cic.storage'}},\n",
       "  'format': 'folder',\n",
       "  'lastModified': '2017-07-22T22:48:55.000-05:00',\n",
       "  'length': 44,\n",
       "  'mimeType': 'text/directory',\n",
       "  'name': '.',\n",
       "  'path': '/home/jstubbs',\n",
       "  'permissions': 'ALL',\n",
       "  'system': 'cic.storage',\n",
       "  'type': 'dir'},\n",
       " {'_links': {'self': {'href': 'https://api.tacc.utexas.edu/files/v2/media/system/cic.storage//home/jstubbs/foo'},\n",
       "   'system': {'href': 'https://api.tacc.utexas.edu/systems/v2/cic.storage'}},\n",
       "  'format': 'raw',\n",
       "  'lastModified': '2017-07-20T13:28:30.000-05:00',\n",
       "  'length': 5,\n",
       "  'mimeType': 'application/octet-stream',\n",
       "  'name': 'foo',\n",
       "  'path': '/home/jstubbs/foo',\n",
       "  'permissions': 'READ_WRITE',\n",
       "  'system': 'cic.storage',\n",
       "  'type': 'file'},\n",
       " {'_links': {'self': {'href': 'https://api.tacc.utexas.edu/files/v2/media/system/cic.storage//home/jstubbs/test'},\n",
       "   'system': {'href': 'https://api.tacc.utexas.edu/systems/v2/cic.storage'}},\n",
       "  'format': 'folder',\n",
       "  'lastModified': '2017-07-20T18:38:08.000-05:00',\n",
       "  'length': 21,\n",
       "  'mimeType': 'text/directory',\n",
       "  'name': 'test',\n",
       "  'path': '/home/jstubbs/test',\n",
       "  'permissions': 'ALL',\n",
       "  'system': 'cic.storage',\n",
       "  'type': 'dir'},\n",
       " {'_links': {'self': {'href': 'https://api.tacc.utexas.edu/files/v2/media/system/cic.storage//home/jstubbs/test123'},\n",
       "   'system': {'href': 'https://api.tacc.utexas.edu/systems/v2/cic.storage'}},\n",
       "  'format': 'folder',\n",
       "  'lastModified': '2017-07-22T22:48:55.000-05:00',\n",
       "  'length': 6,\n",
       "  'mimeType': 'text/directory',\n",
       "  'name': 'test123',\n",
       "  'path': '/home/jstubbs/test123',\n",
       "  'permissions': 'ALL',\n",
       "  'system': 'cic.storage',\n",
       "  'type': 'dir'}]"
      ]
     },
     "execution_count": 14,
     "metadata": {},
     "output_type": "execute_result"
    }
   ],
   "source": [
    "rsp.json()['result']"
   ]
  },
  {
   "cell_type": "code",
   "execution_count": 15,
   "metadata": {},
   "outputs": [
    {
     "data": {
      "text/plain": [
       "[{'_links': {'history': {'href': 'https://api.tacc.utexas.edu/files/v2/history/system/cic.storage//home/jstubbs/test123'},\n",
       "   'metadata': {'href': 'https://api.tacc.utexas.edu/meta/v2/data?q=%7B%22associationIds%22%3A%222733614603201605145-242ac113-0001-002%22%7D'},\n",
       "   'self': {'href': 'https://api.tacc.utexas.edu/files/v2/media/system/cic.storage//home/jstubbs/test123'},\n",
       "   'system': {'href': 'https://api.tacc.utexas.edu/systems/v2/cic.storage'}},\n",
       "  'format': 'folder',\n",
       "  'lastModified': '2017-07-22T22:48:55.000-05:00',\n",
       "  'length': 6,\n",
       "  'mimeType': 'text/directory',\n",
       "  'name': '.',\n",
       "  'path': '/home/jstubbs/test123',\n",
       "  'permissions': 'ALL',\n",
       "  'system': 'cic.storage',\n",
       "  'type': 'dir'}]"
      ]
     },
     "execution_count": 15,
     "metadata": {},
     "output_type": "execute_result"
    }
   ],
   "source": [
    "# we can also list its contents directly by appending it to the path:\n",
    "rsp = requests.get('{}/files/v2/listings/system/{}/{}/test123'.format(base_url, system_id, username), headers=headers)\n",
    "rsp.json()['result']"
   ]
  },
  {
   "cell_type": "code",
   "execution_count": 16,
   "metadata": {
    "collapsed": true
   },
   "outputs": [],
   "source": [
    "# first, let's upload a file called foo.txt to our test directory. we'll create the file locally real quick\n",
    "f= open(\"foo.txt\",\"w+\")\n",
    "f.write(\"This is a test. Test 123\")\n",
    "f.close()"
   ]
  },
  {
   "cell_type": "code",
   "execution_count": 17,
   "metadata": {},
   "outputs": [
    {
     "name": "stdout",
     "output_type": "stream",
     "text": [
      "total 116\r\n",
      "-rw-r--r-- 1 root root  4564 Jul 22 23:48 agave_files.ipynb\r\n",
      "-rw-r--r-- 1 root root  5871 Jul 22 19:35 Application_Programming_Interfaces_Intro.ipynb\r\n",
      "-rw-r--r-- 1 root root    24 Jul 22 23:49 foo.txt\r\n",
      "-rw-r--r-- 1 root root  9144 Jul 22 23:04 Intro_Agave_OAuth.ipynb\r\n",
      "-rw-r--r-- 1 root root  6345 Jul 22 22:23 Intro_Authentication_in_HTTP.ipynb\r\n",
      "-rw-r--r-- 1 root root 19769 Jul 22 23:48 Solutions_Agave_Files.ipynb\r\n",
      "-rw-r--r-- 1 root root 10014 Jul 22 23:24 Solutions_Agave_OAuth.ipynb\r\n",
      "-rw-r--r-- 1 root root 26140 Jul 22 21:38 Solutions_to_api_auth.ipynb\r\n",
      "-rw-r--r-- 1 root root 14478 Jul 22 22:02 Solutions_to_api_into.ipynb\r\n"
     ]
    }
   ],
   "source": [
    "# check that our file is there:\n",
    "! ls -l"
   ]
  },
  {
   "cell_type": "code",
   "execution_count": 18,
   "metadata": {},
   "outputs": [
    {
     "data": {
      "text/plain": [
       "{'_links': {'history': {'href': 'https://api.tacc.utexas.edu/files/v2/history/system/cic.storage//home/jstubbs/test123/foo.txt'},\n",
       "  'notification': [],\n",
       "  'profile': {'href': 'https://api.tacc.utexas.edu/profiles/v2/jstubbs'},\n",
       "  'self': {'href': 'https://api.tacc.utexas.edu/files/v2/media/system/cic.storage//home/jstubbs/test123/foo.txt'},\n",
       "  'system': {'href': 'https://api.tacc.utexas.edu/systems/v2/cic.storage'}},\n",
       " 'internalUsername': None,\n",
       " 'lastModified': '2017-07-22T22:49:56.905-05:00',\n",
       " 'name': 'foo.txt',\n",
       " 'nativeFormat': 'raw',\n",
       " 'owner': 'jstubbs',\n",
       " 'path': 'jstubbs/test123/foo.txt',\n",
       " 'source': 'http://129.114.97.130/foo.txt',\n",
       " 'status': 'STAGING_QUEUED',\n",
       " 'systemId': 'cic.storage',\n",
       " 'uuid': '115445489232965145-242ac113-0001-002'}"
      ]
     },
     "execution_count": 18,
     "metadata": {},
     "output_type": "execute_result"
    }
   ],
   "source": [
    "# now let's upload the file to the test directory:\n",
    "rsp = requests.post('{}/files/v2/media/system/{}/{}/test123'.format(base_url, system_id, username), \n",
    "                    files={'fileToUpload': open('foo.txt', 'rb')}, \n",
    "                    headers=headers)\n",
    "rsp.json()['result']"
   ]
  },
  {
   "cell_type": "markdown",
   "metadata": {},
   "source": [
    "Note that the upload was QUEDED; in other words, our file won't be there instantly. Agave collects the data in the file and queues the transfer to the remote system. Usually, this transfer happens pretty quickly, but on days when Agave is doing a large number of transfers, it can sometimes take a while.\n",
    "\n",
    "Let's check to see if our file is there."
   ]
  },
  {
   "cell_type": "code",
   "execution_count": 19,
   "metadata": {},
   "outputs": [
    {
     "data": {
      "text/plain": [
       "[{'_links': {'history': {'href': 'https://api.tacc.utexas.edu/files/v2/history/system/cic.storage//home/jstubbs/test123'},\n",
       "   'metadata': {'href': 'https://api.tacc.utexas.edu/meta/v2/data?q=%7B%22associationIds%22%3A%222733614603201605145-242ac113-0001-002%22%7D'},\n",
       "   'self': {'href': 'https://api.tacc.utexas.edu/files/v2/media/system/cic.storage//home/jstubbs/test123'},\n",
       "   'system': {'href': 'https://api.tacc.utexas.edu/systems/v2/cic.storage'}},\n",
       "  'format': 'folder',\n",
       "  'lastModified': '2017-07-22T22:49:57.000-05:00',\n",
       "  'length': 21,\n",
       "  'mimeType': 'text/directory',\n",
       "  'name': '.',\n",
       "  'path': '/home/jstubbs/test123',\n",
       "  'permissions': 'ALL',\n",
       "  'system': 'cic.storage',\n",
       "  'type': 'dir'},\n",
       " {'_links': {'self': {'href': 'https://api.tacc.utexas.edu/files/v2/media/system/cic.storage//home/jstubbs/test123/foo.txt'},\n",
       "   'system': {'href': 'https://api.tacc.utexas.edu/systems/v2/cic.storage'}},\n",
       "  'format': 'raw',\n",
       "  'lastModified': '2017-07-22T22:49:57.000-05:00',\n",
       "  'length': 24,\n",
       "  'mimeType': 'text/plain',\n",
       "  'name': 'foo.txt',\n",
       "  'path': '/home/jstubbs/test123/foo.txt',\n",
       "  'permissions': 'READ_WRITE',\n",
       "  'system': 'cic.storage',\n",
       "  'type': 'file'}]"
      ]
     },
     "execution_count": 19,
     "metadata": {},
     "output_type": "execute_result"
    }
   ],
   "source": [
    "# we can also list its contents directly by appending it to the path:\n",
    "rsp = requests.get('{}/files/v2/listings/system/{}/{}/test123'.format(base_url, system_id, username), headers=headers)\n",
    "rsp.json()['result']"
   ]
  },
  {
   "cell_type": "code",
   "execution_count": 20,
   "metadata": {
    "collapsed": true
   },
   "outputs": [],
   "source": [
    "# finally, let's download our file again in a new directory called temp. We'll make that directory first:\n",
    "! mkdir temp123"
   ]
  },
  {
   "cell_type": "code",
   "execution_count": 21,
   "metadata": {},
   "outputs": [
    {
     "name": "stdout",
     "output_type": "stream",
     "text": [
      "total 124\r\n",
      "-rw-r--r-- 1 root root  4564 Jul 22 23:48 agave_files.ipynb\r\n",
      "-rw-r--r-- 1 root root  5871 Jul 22 19:35 Application_Programming_Interfaces_Intro.ipynb\r\n",
      "-rw-r--r-- 1 root root    24 Jul 22 23:49 foo.txt\r\n",
      "-rw-r--r-- 1 root root  9144 Jul 22 23:04 Intro_Agave_OAuth.ipynb\r\n",
      "-rw-r--r-- 1 root root  6345 Jul 22 22:23 Intro_Authentication_in_HTTP.ipynb\r\n",
      "-rw-r--r-- 1 root root 20494 Jul 22 23:50 Solutions_Agave_Files.ipynb\r\n",
      "-rw-r--r-- 1 root root 10014 Jul 22 23:24 Solutions_Agave_OAuth.ipynb\r\n",
      "-rw-r--r-- 1 root root 26140 Jul 22 21:38 Solutions_to_api_auth.ipynb\r\n",
      "-rw-r--r-- 1 root root 14478 Jul 22 22:02 Solutions_to_api_into.ipynb\r\n",
      "drwxr-xr-x 2 root root  4096 Jul 22 23:50 temp123\r\n"
     ]
    }
   ],
   "source": [
    "! ls -l "
   ]
  },
  {
   "cell_type": "code",
   "execution_count": 22,
   "metadata": {
    "collapsed": true
   },
   "outputs": [],
   "source": [
    "# use a GET request to the media endpoint to download the file\n",
    "# the file comes to us in raw bytes, so we are responsible for writing it to disk.\n",
    "with open('temp123/foo.txt', 'wb') as f:\n",
    "    rsp = requests.get('{}/files/v2/media/system/{}/{}/test123/foo.txt'.format(base_url, system_id, username), headers=headers)\n",
    "    for block in rsp.iter_content(1024):\n",
    "        if not block:\n",
    "            break\n",
    "        f.write(block)"
   ]
  },
  {
   "cell_type": "code",
   "execution_count": 23,
   "metadata": {},
   "outputs": [
    {
     "name": "stdout",
     "output_type": "stream",
     "text": [
      "total 4\r\n",
      "-rw-r--r-- 1 root root 24 Jul 22 23:51 foo.txt\r\n"
     ]
    }
   ],
   "source": [
    "! ls -l temp123/"
   ]
  },
  {
   "cell_type": "code",
   "execution_count": 25,
   "metadata": {},
   "outputs": [
    {
     "name": "stdout",
     "output_type": "stream",
     "text": [
      "This is a test. Test 123"
     ]
    }
   ],
   "source": [
    "! cat temp123/foo.txt"
   ]
  }
 ],
 "metadata": {
  "kernelspec": {
   "display_name": "Python 3",
   "language": "python",
   "name": "python3"
  },
  "language_info": {
   "codemirror_mode": {
    "name": "ipython",
    "version": 3
   },
   "file_extension": ".py",
   "mimetype": "text/x-python",
   "name": "python",
   "nbconvert_exporter": "python",
   "pygments_lexer": "ipython3",
   "version": "3.6.1"
  }
 },
 "nbformat": 4,
 "nbformat_minor": 2
}
