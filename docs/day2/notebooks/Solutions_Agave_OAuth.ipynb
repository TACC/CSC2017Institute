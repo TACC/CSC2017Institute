{
 "cells": [
  {
   "cell_type": "markdown",
   "metadata": {},
   "source": [
    "# The Agave API\n",
    "\n",
    "In this notebook we explore the Agave API and use it to store and retrieve files. We will use the requests library to make all requests. For full documentation on the Agave API, see: http://developer.agaveapi.co/"
   ]
  },
  {
   "cell_type": "markdown",
   "metadata": {},
   "source": [
    "To get started, we need to generate a set of Agave developer client keys (OAuth credentials). Generating OAuth clients uses HTTP Basic Authentication (https://tools.ietf.org/html/rfc2617) with your TACC username and password."
   ]
  },
  {
   "cell_type": "code",
   "execution_count": 4,
   "metadata": {
    "collapsed": true
   },
   "outputs": [],
   "source": [
    "# import the requests library\n",
    "import requests\n",
    "\n",
    "# import getpass to prompt for a password\n",
    "from getpass import getpass"
   ]
  },
  {
   "cell_type": "code",
   "execution_count": 5,
   "metadata": {
    "collapsed": true
   },
   "outputs": [],
   "source": [
    "# the base URL for interacting with the Agave API\n",
    "base_url = 'https://api.tacc.utexas.edu'"
   ]
  },
  {
   "cell_type": "code",
   "execution_count": 6,
   "metadata": {},
   "outputs": [
    {
     "name": "stdout",
     "output_type": "stream",
     "text": [
      "Hello jstubbs. Please enter your TACC password: ········\n"
     ]
    }
   ],
   "source": [
    "# Set up your TACC credentials. Modify the username appropriately\n",
    "username = 'jstubbs'\n",
    "password = getpass(prompt='Hello {}. Please enter your TACC password: '.format(username))"
   ]
  },
  {
   "cell_type": "markdown",
   "metadata": {},
   "source": [
    "## OAuth Client And Access Token Generation\n",
    "\n",
    "With the username and password in place, we are ready to interact with Agave's OAuth server to generate an OAuth client and then an access token. Agave has a full OAuth provider server and supports 4 major grant types: password, authorization_code, refresh_token and implicit. For more details on OAuth see the spec (https://tools.ietf.org/html/rfc6749)."
   ]
  },
  {
   "cell_type": "markdown",
   "metadata": {},
   "source": [
    "### OAuth Client Generation\n",
    "\n",
    "We can use Agave's clients service to generate and manage our OAuth clients. First let's make a GET request to the clients service to see what clients we have. We will use the provided HTTPBasicAuth class in requests, which comes with a convenient shortcut:"
   ]
  },
  {
   "cell_type": "code",
   "execution_count": 16,
   "metadata": {},
   "outputs": [
    {
     "data": {
      "text/plain": [
       "200"
      ]
     },
     "execution_count": 16,
     "metadata": {},
     "output_type": "execute_result"
    }
   ],
   "source": [
    "rsp = requests.get(url='{}/clients/v2'.format(base_url), auth=(username, password))\n",
    "rsp.status_code"
   ]
  },
  {
   "cell_type": "code",
   "execution_count": 17,
   "metadata": {},
   "outputs": [
    {
     "data": {
      "text/plain": [
       "{'message': 'Clients retrieved successfully.',\n",
       " 'result': [{'_links': {'self': {'href': 'https://api.tacc.utexas.edu/clients/v2/DefaultApplication'},\n",
       "    'subscriber': {'href': 'https://api.tacc.utexas.edu/profiles/v2/jstubbs'},\n",
       "    'subscriptions': {'href': 'https://api.tacc.utexas.edu/clients/v2/DefaultApplication/subscriptions/'}},\n",
       "   'callbackUrl': None,\n",
       "   'consumerKey': 'VzN6Cxj9GirfMsINqUVQxbhrQSQa',\n",
       "   'description': None,\n",
       "   'name': 'DefaultApplication',\n",
       "   'tier': 'Unlimited'},\n",
       "  {'_links': {'self': {'href': 'https://api.tacc.utexas.edu/clients/v2/postman'},\n",
       "    'subscriber': {'href': 'https://api.tacc.utexas.edu/profiles/v2/jstubbs'},\n",
       "    'subscriptions': {'href': 'https://api.tacc.utexas.edu/clients/v2/postman/subscriptions/'}},\n",
       "   'callbackUrl': 'https://www.getpostman.com/oauth2/callback',\n",
       "   'consumerKey': 'fYEbfnaxo4LbqShSebng4f5LD18a',\n",
       "   'description': '',\n",
       "   'name': 'postman',\n",
       "   'tier': 'Unlimited'},\n",
       "  {'_links': {'self': {'href': 'https://api.tacc.utexas.edu/clients/v2/testoauth'},\n",
       "    'subscriber': {'href': 'https://api.tacc.utexas.edu/profiles/v2/jstubbs'},\n",
       "    'subscriptions': {'href': 'https://api.tacc.utexas.edu/clients/v2/testoauth/subscriptions/'}},\n",
       "   'callbackUrl': 'http://localhost:8000/oauth2/token',\n",
       "   'consumerKey': 'BDvU32CJYamIDCTakKD3JctS6K4a',\n",
       "   'description': '',\n",
       "   'name': 'testoauth',\n",
       "   'tier': 'Unlimited'}],\n",
       " 'status': 'success',\n",
       " 'version': '2.0.0-SNAPSHOT-rc3fad'}"
      ]
     },
     "execution_count": 17,
     "metadata": {},
     "output_type": "execute_result"
    }
   ],
   "source": [
    "# the clients service, like all Agave services, returns us JSON:\n",
    "rsp.json()"
   ]
  },
  {
   "cell_type": "markdown",
   "metadata": {},
   "source": [
    "To create a simple OAuth client that has access to all basic Agave APIs, we need to make a POST request to the clients service. The only required field we need to pass in is `clientName` to give a name to our client. Each client we create must have a unique name."
   ]
  },
  {
   "cell_type": "code",
   "execution_count": 18,
   "metadata": {},
   "outputs": [
    {
     "data": {
      "text/plain": [
       "201"
      ]
     },
     "execution_count": 18,
     "metadata": {},
     "output_type": "execute_result"
    }
   ],
   "source": [
    "# Pick a name for your client; this name will have to be different every time you run this cell. Otherwise, you\n",
    "# will try to recreate a client with the same name and you will get an error.\n",
    "client_name = 'cic_institute'\n",
    "\n",
    "# make a POST request to the client's service, passing only that field. \n",
    "# Note that the parameter name uses camel case\n",
    "data = {'clientName': client_name}\n",
    "rsp = requests.post(url='{}/clients/v2'.format(base_url), data=data, auth=(username, password))\n",
    "rsp.status_code"
   ]
  },
  {
   "cell_type": "markdown",
   "metadata": {},
   "source": [
    "Note that Agave returned a 201 status code to indicate that resource was successfully created. \n",
    "\n",
    "Let's explore the response."
   ]
  },
  {
   "cell_type": "code",
   "execution_count": 19,
   "metadata": {},
   "outputs": [
    {
     "data": {
      "text/plain": [
       "{'message': 'Client created successfully.',\n",
       " 'result': {'_links': {'self': {'href': 'https://api.tacc.utexas.edu/clients/v2/cic_institute'},\n",
       "   'subscriber': {'href': 'https://api.tacc.utexas.edu/profiles/v2/jstubbs'},\n",
       "   'subscriptions': {'href': 'https://api.tacc.utexas.edu/clients/v2/cic_institute/subscriptions/'}},\n",
       "  'callbackUrl': '',\n",
       "  'consumerKey': 'f_9vaEvm3oxCnNe9Z4VoxRXZGwca',\n",
       "  'consumerSecret': 'MTXYtMiwOmxNI2mRLrwOwG_9Vpwa',\n",
       "  'description': '',\n",
       "  'name': 'cic_institute',\n",
       "  'tier': 'Unlimited'},\n",
       " 'status': 'success',\n",
       " 'version': '2.0.0-SNAPSHOT-rc3fad'}"
      ]
     },
     "execution_count": 19,
     "metadata": {},
     "output_type": "execute_result"
    }
   ],
   "source": [
    "rsp.json()"
   ]
  },
  {
   "cell_type": "markdown",
   "metadata": {},
   "source": [
    "Two important string fields are returned, the `consumerKey` and the `consumerSecret`. We will need these fields to interact with the Agave OAuth token service and generate an access token. Let's take note of those variables."
   ]
  },
  {
   "cell_type": "code",
   "execution_count": 21,
   "metadata": {
    "collapsed": true
   },
   "outputs": [],
   "source": [
    "key = rsp.json()['result']['consumerKey']"
   ]
  },
  {
   "cell_type": "code",
   "execution_count": 22,
   "metadata": {
    "collapsed": true
   },
   "outputs": [],
   "source": [
    "secret = rsp.json()['result']['consumerSecret']"
   ]
  },
  {
   "cell_type": "markdown",
   "metadata": {},
   "source": [
    "### Generating Access and Refresh Tokens\n",
    "\n",
    "We're now ready to generate an OAuth token. This token will represent both the user and client application. In this case, they are owned by the same individual, but in general they will not be.\n",
    "\n",
    "To generate an OAuth token, we make a POST request to Agave's token service. We have to pass in several fields to make the request:"
   ]
  },
  {
   "cell_type": "code",
   "execution_count": 23,
   "metadata": {},
   "outputs": [
    {
     "data": {
      "text/plain": [
       "200"
      ]
     },
     "execution_count": 23,
     "metadata": {},
     "output_type": "execute_result"
    }
   ],
   "source": [
    "# POST payload for generating a token using the password grant:\n",
    "# scope will always be PRODUCTION.\n",
    "data = {'username': username,\n",
    "       'password': password,\n",
    "       'grant_type': 'password',\n",
    "       'scope': 'PRODUCTION'}\n",
    "# note that authentication is technically HTTPBasicAuth with the OAuth client key and secret\n",
    "rsp = requests.post('{}/token'.format(base_url), data=data, auth=(key, secret))\n",
    "rsp.status_code"
   ]
  },
  {
   "cell_type": "code",
   "execution_count": 24,
   "metadata": {},
   "outputs": [
    {
     "data": {
      "text/plain": [
       "{'access_token': '6f8f0b94c413c8a7b5ba428bd50d4',\n",
       " 'expires_in': 14400,\n",
       " 'refresh_token': 'dafb6ab783b8edd2cfceda40a7f134',\n",
       " 'scope': 'default',\n",
       " 'token_type': 'bearer'}"
      ]
     },
     "execution_count": 24,
     "metadata": {},
     "output_type": "execute_result"
    }
   ],
   "source": [
    "# check the response message:\n",
    "rsp.json()"
   ]
  },
  {
   "cell_type": "markdown",
   "metadata": {},
   "source": [
    "We see that Agave generated an access token and a refresh token. The access token is good for 4 hours (14400 seconds). But we can use the refresh token to get a new access token at any point. To do so, we will use the refresh_token grant type and a modified payload. For now, let's just grab the tokens from the response."
   ]
  },
  {
   "cell_type": "code",
   "execution_count": 26,
   "metadata": {
    "collapsed": true
   },
   "outputs": [],
   "source": [
    "access_token = rsp.json()['access_token']\n",
    "refresh_token = rsp.json()['refresh_token']"
   ]
  },
  {
   "cell_type": "markdown",
   "metadata": {},
   "source": [
    "Once we have an access token we are ready to interact with the rest of the Agave services. All requests to Agave using this access token will be done on behalf of the user who's credentials were used to retrieve the token (as well as the OAuth client that was used).\n",
    "\n",
    "In order to make a request to Agave using the access token, we need to pass the token into the Authorization header of the request. The value of the header must be formated like so: `\"Bearer <access_token>\"`\n",
    "\n",
    "As a simple check, we'll use the Agave Profiles service to pull the \"profile\" associated with this token. The Agave Profiles service maintains some details about registered users."
   ]
  },
  {
   "cell_type": "code",
   "execution_count": 27,
   "metadata": {},
   "outputs": [
    {
     "data": {
      "text/plain": [
       "200"
      ]
     },
     "execution_count": 27,
     "metadata": {},
     "output_type": "execute_result"
    }
   ],
   "source": [
    "# build the Authorization header in a headers dictionary\n",
    "headers = {'Authorization': 'Bearer {}'.format(access_token)}\n",
    "\n",
    "# make a request to the profiles service; the \"me\" endpoint is a special reserved word in Agave to indicate\n",
    "# we want information about the associated token.\n",
    "rsp = requests.get(url='{}/profiles/v2/me'.format(base_url), headers=headers)\n",
    "rsp.status_code"
   ]
  },
  {
   "cell_type": "code",
   "execution_count": 28,
   "metadata": {},
   "outputs": [
    {
     "data": {
      "text/plain": [
       "{'message': 'User details retrieved successfully.',\n",
       " 'result': {'create_time': '20140515180254Z',\n",
       "  'email': 'jstubbs@tacc.utexas.edu',\n",
       "  'first_name': 'Joe',\n",
       "  'full_name': 'jstubbs',\n",
       "  'last_name': 'Stubbs',\n",
       "  'mobile_phone': '',\n",
       "  'phone': '',\n",
       "  'status': '',\n",
       "  'username': 'jstubbs'},\n",
       " 'status': 'success',\n",
       " 'version': '2.0.0-SNAPSHOT-rc3fad'}"
      ]
     },
     "execution_count": 28,
     "metadata": {},
     "output_type": "execute_result"
    }
   ],
   "source": [
    "rsp.json()"
   ]
  },
  {
   "cell_type": "markdown",
   "metadata": {},
   "source": [
    "Indeed, the profile belongs to me. We are now ready to interact with Agave's cloud storage."
   ]
  }
 ],
 "metadata": {
  "kernelspec": {
   "display_name": "Python 3",
   "language": "python",
   "name": "python3"
  },
  "language_info": {
   "codemirror_mode": {
    "name": "ipython",
    "version": 3
   },
   "file_extension": ".py",
   "mimetype": "text/x-python",
   "name": "python",
   "nbconvert_exporter": "python",
   "pygments_lexer": "ipython3",
   "version": "3.6.1"
  }
 },
 "nbformat": 4,
 "nbformat_minor": 2
}
