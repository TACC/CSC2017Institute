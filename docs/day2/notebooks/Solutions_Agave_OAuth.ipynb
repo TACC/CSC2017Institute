{
 "cells": [
  {
   "cell_type": "markdown",
   "metadata": {},
   "source": [
    "# The Agave API\n",
    "\n",
    "In this notebook we explore the Agave API and use it to store and retrieve files. We will use the requests library to make all requests. For full documentation on the Agave API, see: http://developer.agaveapi.co/"
   ]
  },
  {
   "cell_type": "markdown",
   "metadata": {},
   "source": [
    "To get started, we need to generate a set of Agave developer client keys (OAuth credentials). Generating OAuth clients uses HTTP Basic Authentication (https://tools.ietf.org/html/rfc2617) with your TACC username and password."
   ]
  },
  {
   "cell_type": "code",
   "execution_count": 4,
   "metadata": {
    "collapsed": true
   },
   "outputs": [],
   "source": [
    "# import the requests library\n",
    "import requests\n",
    "\n",
    "# import getpass to prompt for a password\n",
    "from getpass import getpass"
   ]
  },
  {
   "cell_type": "code",
   "execution_count": 5,
   "metadata": {
    "collapsed": true
   },
   "outputs": [],
   "source": [
    "# the base URL for interacting with the Agave API\n",
    "base_url = 'https://api.tacc.utexas.edu'"
   ]
  },
  {
   "cell_type": "code",
   "execution_count": 6,
   "metadata": {},
   "outputs": [
    {
     "name": "stdout",
     "output_type": "stream",
     "text": [
      "Hello jstubbs. Please enter your TACC password: ········\n"
     ]
    }
   ],
   "source": [
    "# Set up your TACC credentials. Modify the username appropriately\n",
    "username = 'jstubbs'\n",
    "password = getpass(prompt='Hello {}. Please enter your TACC password: '.format(username))"
   ]
  },
  {
   "cell_type": "markdown",
   "metadata": {},
   "source": [
    "## OAuth Client And Access Token Generation\n",
    "\n",
    "With the username and password in place, we are ready to interact with Agave's OAuth server to generate an OAuth client and then an access token. Agave has a full OAuth provider server and supports 4 major grant types: password, authorization_code, refresh_token and implicit. For more details on OAuth see the spec (https://tools.ietf.org/html/rfc6749)."
   ]
  },
  {
   "cell_type": "markdown",
   "metadata": {},
   "source": [
    "### OAuth Client Generation\n",
    "\n",
    "We can use Agave's clients service to generate and manage our OAuth clients. First let's make a GET request to the clients service to see what clients we have. We will use the provided HTTPBasicAuth class in requests, which comes with a convenient shortcut:"
   ]
  },
  {
   "cell_type": "code",
   "execution_count": 16,
   "metadata": {},
   "outputs": [
    {
     "data": {
      "text/plain": [
       "200"
      ]
     },
     "execution_count": 16,
     "metadata": {},
     "output_type": "execute_result"
    }
   ],
   "source": [
    "rsp = requests.get(url='{}/clients/v2'.format(base_url), auth=(username, password))\n",
    "rsp.status_code"
   ]
  },
  {
   "cell_type": "code",
   "execution_count": 17,
   "metadata": {},
   "outputs": [
    {
     "data": {
      "text/plain": [
       "{'message': 'Clients retrieved successfully.',\n",
       " 'result': [{'_links': {'self': {'href': 'https://api.tacc.utexas.edu/clients/v2/DefaultApplication'},\n",
       "    'subscriber': {'href': 'https://api.tacc.utexas.edu/profiles/v2/jstubbs'},\n",
       "    'subscriptions': {'href': 'https://api.tacc.utexas.edu/clients/v2/DefaultApplication/subscriptions/'}},\n",
       "   'callbackUrl': None,\n",
       "   'consumerKey': 'VzN6Cxj9GirfMsINqUVQxbhrQSQa',\n",
       "   'description': None,\n",
       "   'name': 'DefaultApplication',\n",
       "   'tier': 'Unlimited'},\n",
       "  {'_links': {'self': {'href': 'https://api.tacc.utexas.edu/clients/v2/postman'},\n",
       "    'subscriber': {'href': 'https://api.tacc.utexas.edu/profiles/v2/jstubbs'},\n",
       "    'subscriptions': {'href': 'https://api.tacc.utexas.edu/clients/v2/postman/subscriptions/'}},\n",
       "   'callbackUrl': 'https://www.getpostman.com/oauth2/callback',\n",
       "   'consumerKey': 'fYEbfnaxo4LbqShSebng4f5LD18a',\n",
       "   'description': '',\n",
       "   'name': 'postman',\n",
       "   'tier': 'Unlimited'},\n",
       "  {'_links': {'self': {'href': 'https://api.tacc.utexas.edu/clients/v2/testoauth'},\n",
       "    'subscriber': {'href': 'https://api.tacc.utexas.edu/profiles/v2/jstubbs'},\n",
       "    'subscriptions': {'href': 'https://api.tacc.utexas.edu/clients/v2/testoauth/subscriptions/'}},\n",
       "   'callbackUrl': 'http://localhost:8000/oauth2/token',\n",
       "   'consumerKey': 'BDvU32CJYamIDCTakKD3JctS6K4a',\n",
       "   'description': '',\n",
       "   'name': 'testoauth',\n",
       "   'tier': 'Unlimited'}],\n",
       " 'status': 'success',\n",
       " 'version': '2.0.0-SNAPSHOT-rc3fad'}"
      ]
     },
     "execution_count": 17,
     "metadata": {},
     "output_type": "execute_result"
    }
   ],
   "source": [
    "# the clients service, like all Agave services, returns us JSON:\n",
    "rsp.json()"
   ]
  },
  {
   "cell_type": "markdown",
   "metadata": {},
   "source": [
    "To create a simple OAuth client that has access to all basic Agave APIs, we need to make a POST request to the clients service. The only required field we need to pass in is `clientName` to give a name to our client. Each client we create must have a unique name."
   ]
  },
  {
   "cell_type": "code",
   "execution_count": 18,
   "metadata": {},
   "outputs": [
    {
     "data": {
      "text/plain": [
       "201"
      ]
     },
     "execution_count": 18,
     "metadata": {},
     "output_type": "execute_result"
    }
   ],
   "source": [
    "# Pick a name for your client; this name will have to be different every time you run this cell. Otherwise, you\n",
    "# will try to recreate a client with the same name and you will get an error.\n",
    "client_name = 'cic_institute'\n",
    "\n",
    "# make a POST request to the client's service, passing only that field. \n",
    "# Note that the parameter name uses camel case\n",
    "data = {'clientName': client_name}\n",
    "rsp = requests.post(url='{}/clients/v2'.format(base_url), data=data, auth=(username, password))\n",
    "rsp.status_code"
   ]
  },
  {
   "cell_type": "markdown",
   "metadata": {},
   "source": [
    "Note that Agave returned a 201 status code to indicate that resource was successfully created. \n",
    "\n",
    "Let's explore the response."
   ]
  },
  {
   "cell_type": "code",
   "execution_count": 19,
   "metadata": {},
   "outputs": [
    {
     "data": {
      "text/plain": [
       "{'message': 'Client created successfully.',\n",
       " 'result': {'_links': {'self': {'href': 'https://api.tacc.utexas.edu/clients/v2/cic_institute'},\n",
       "   'subscriber': {'href': 'https://api.tacc.utexas.edu/profiles/v2/jstubbs'},\n",
       "   'subscriptions': {'href': 'https://api.tacc.utexas.edu/clients/v2/cic_institute/subscriptions/'}},\n",
       "  'callbackUrl': '',\n",
       "  'consumerKey': 'f_9vaEvm3oxCnNe9Z4VoxRXZGwca',\n",
       "  'consumerSecret': 'MTXYtMiwOmxNI2mRLrwOwG_9Vpwa',\n",
       "  'description': '',\n",
       "  'name': 'cic_institute',\n",
       "  'tier': 'Unlimited'},\n",
       " 'status': 'success',\n",
       " 'version': '2.0.0-SNAPSHOT-rc3fad'}"
      ]
     },
     "execution_count": 19,
     "metadata": {},
     "output_type": "execute_result"
    }
   ],
   "source": [
    "rsp.json()"
   ]
  },
  {
   "cell_type": "markdown",
   "metadata": {},
   "source": [
    "Two important string fields are returned, the `consumerKey` and the `consumerSecret`. We will need these fields to interact with the Agave OAuth token service and generate an access token. Let's take note of those variables."
   ]
  },
  {
   "cell_type": "code",
   "execution_count": 21,
   "metadata": {},
   "outputs": [],
   "source": [
    "key = rsp.json()['result']['consumerKey']"
   ]
  },
  {
   "cell_type": "code",
   "execution_count": 22,
   "metadata": {
    "collapsed": true
   },
   "outputs": [],
   "source": [
    "secret = rsp.json()['result']['consumerSecret']"
   ]
  },
  {
   "cell_type": "markdown",
   "metadata": {},
   "source": [
    "### Generating Access and Refresh Tokens\n",
    "\n",
    "We're now ready to generate an OAuth token. This token will represent both the user and client application. In this case, they are owned by the same individual, but in general they will not be.\n",
    "\n",
    "To generate an OAuth token, we make a POST request to Agave's token service. We have to pass in several fields to make the request:"
   ]
  },
  {
   "cell_type": "code",
   "execution_count": 23,
   "metadata": {},
   "outputs": [
    {
     "data": {
      "text/plain": [
       "200"
      ]
     },
     "execution_count": 23,
     "metadata": {},
     "output_type": "execute_result"
    }
   ],
   "source": [
    "# POST payload for generating a token using the password grant:\n",
    "# scope will always be PRODUCTION.\n",
    "data = {'username': username,\n",
    "       'password': password,\n",
    "       'grant_type': 'password',\n",
    "       'scope': 'PRODUCTION'}\n",
    "# note that authentication is technically HTTPBasicAuth with the OAuth client key and secret\n",
    "rsp = requests.post('{}/token'.format(base_url), data=data, auth=(key, secret))\n",
    "rsp.status_code"
   ]
  },
  {
   "cell_type": "code",
   "execution_count": 24,
   "metadata": {},
   "outputs": [
    {
     "data": {
      "text/plain": [
       "{'access_token': '6f8f0b94c413c8a7b5ba428bd50d4',\n",
       " 'expires_in': 14400,\n",
       " 'refresh_token': 'dafb6ab783b8edd2cfceda40a7f134',\n",
       " 'scope': 'default',\n",
       " 'token_type': 'bearer'}"
      ]
     },
     "execution_count": 24,
     "metadata": {},
     "output_type": "execute_result"
    }
   ],
   "source": [
    "# check the response message:\n",
    "rsp.json()"
   ]
  },
  {
   "cell_type": "markdown",
   "metadata": {},
   "source": [
    "We see that Agave generated an access token and a refresh token. The access token is good for 4 hours (14400 seconds). But we can use the refresh token to get a new access token at any point. To do so, we will use the refresh_token grant type and a modified payload. For now, let's just grab the tokens from the response."
   ]
  },
  {
   "cell_type": "code",
   "execution_count": 26,
   "metadata": {},
   "outputs": [],
   "source": [
    "access_token = rsp.json()['access_token']\n",
    "refresh_token = rsp.json()['refresh_token']"
   ]
  },
  {
   "cell_type": "markdown",
   "metadata": {},
   "source": [
    "Once we have an access token we are ready to interact with the rest of the Agave services. All requests to Agave using this access token will be done on behalf of the user who's credentials were used to retrieve the token (as well as the OAuth client that was used).\n",
    "\n",
    "In order to make a request to Agave using the access token, we need to pass the token into the Authorization header of the request. The value of the header must be formated like so: `\"Bearer <access_token>\"`\n",
    "\n",
    "As a simple check, we'll use the Agave Profiles service to pull the \"profile\" associated with this token. The Agave Profiles service maintains some details about registered users."
   ]
  },
  {
   "cell_type": "code",
   "execution_count": 27,
   "metadata": {},
   "outputs": [
    {
     "data": {
      "text/plain": [
       "200"
      ]
     },
     "execution_count": 27,
     "metadata": {},
     "output_type": "execute_result"
    }
   ],
   "source": [
    "# build the Authorization header in a headers dictionary\n",
    "headers = {'Authorization': 'Bearer {}'.format(access_token)}\n",
    "\n",
    "# make a request to the profiles service; the \"me\" endpoint is a special reserved word in Agave to indicate\n",
    "# we want information about the associated token.\n",
    "rsp = requests.get(url='{}/profiles/v2/me'.format(base_url), headers=headers)\n",
    "rsp.status_code"
   ]
  },
  {
   "cell_type": "code",
   "execution_count": 28,
   "metadata": {},
   "outputs": [
    {
     "data": {
      "text/plain": [
       "{'message': 'User details retrieved successfully.',\n",
       " 'result': {'create_time': '20140515180254Z',\n",
       "  'email': 'jstubbs@tacc.utexas.edu',\n",
       "  'first_name': 'Joe',\n",
       "  'full_name': 'jstubbs',\n",
       "  'last_name': 'Stubbs',\n",
       "  'mobile_phone': '',\n",
       "  'phone': '',\n",
       "  'status': '',\n",
       "  'username': 'jstubbs'},\n",
       " 'status': 'success',\n",
       " 'version': '2.0.0-SNAPSHOT-rc3fad'}"
      ]
     },
     "execution_count": 28,
     "metadata": {},
     "output_type": "execute_result"
    }
   ],
   "source": [
    "rsp.json()"
   ]
  },
  {
   "cell_type": "markdown",
   "metadata": {},
   "source": [
    "Indeed, the profile belongs to me. We are now ready to interact with Agave's cloud storage."
   ]
  },
  {
   "cell_type": "markdown",
   "metadata": {},
   "source": [
    "## Working with Agave Cloud Storage\n",
    "\n",
    "One of the strengths of the Agave API is its ability to interact with a remote storage systems. Agave allows users to register and share (virtual) storage systems with other users, and interact with the associated files and folders on such systems.\n",
    "\n",
    "In preparation for this class, we set up a file server in JetStream and used Agave's systems API to register it and share it with each of you. We will not go into all the details of Agave's Systems service, but we will point out that it has a fine grained permissions model which allows us to give each of you access to a different part of the file system. For more information on Agave's systems service, see: http://developer.agaveapi.co/#systems"
   ]
  },
  {
   "cell_type": "markdown",
   "metadata": {},
   "source": [
    "Today, we will focus on Agave's files service, which allows us to interact with the files and folders that we have access to on the Agave system. There are three activities we will explore:\n",
    "  * Listing files and folders\n",
    "  * Uploading and downloading files\n",
    "  * Creating directories\n"
   ]
  },
  {
   "cell_type": "markdown",
   "metadata": {},
   "source": [
    "### Working with the Files Service\n",
    "\n",
    "All actions through the files service are in reference to a specific Agave storage system. One speficies the system one wishes to interact with by providing the system's id. We will be exclusively using the storage system we set up for this class, and it's id is provided below."
   ]
  },
  {
   "cell_type": "markdown",
   "metadata": {},
   "source": [
    "# first, set the system id we will be working with. The id below is the id of the storage system we registered\n",
    "# for the class\n",
    "system_id = 'cic.storage'"
   ]
  },
  {
   "cell_type": "markdown",
   "metadata": {},
   "source": [
    "Beyond the system id, in order to list files we also need to provide a path on the system to list. Paths are relative to the storage system's home "
   ]
  },
  {
   "cell_type": "code",
   "execution_count": 33,
   "metadata": {},
   "outputs": [
    {
     "data": {
      "text/plain": [
       "200"
      ]
     },
     "execution_count": 33,
     "metadata": {},
     "output_type": "execute_result"
    }
   ],
   "source": [
    "# let's start by using the files service to list the files in our home directory, which is given by our username.\n",
    "rsp = requests.get('{}/files/v2/listings/system/{}/{}'.format(base_url, system_id, username), headers=headers)\n",
    "rsp.status_code"
   ]
  },
  {
   "cell_type": "code",
   "execution_count": 36,
   "metadata": {},
   "outputs": [
    {
     "data": {
      "text/plain": [
       "[{'_links': {'history': {'href': 'https://api.tacc.utexas.edu/files/v2/history/system/cic.storage//home/jstubbs'},\n",
       "   'metadata': {'href': 'https://api.tacc.utexas.edu/meta/v2/data?q=%7B%22associationIds%22%3A%227129190038640988647-242ac113-0001-002%22%7D'},\n",
       "   'self': {'href': 'https://api.tacc.utexas.edu/files/v2/media/system/cic.storage//home/jstubbs'},\n",
       "   'system': {'href': 'https://api.tacc.utexas.edu/systems/v2/cic.storage'}},\n",
       "  'format': 'folder',\n",
       "  'lastModified': '2017-07-20T13:28:30.000-05:00',\n",
       "  'length': 17,\n",
       "  'mimeType': 'text/directory',\n",
       "  'name': '.',\n",
       "  'path': '/home/jstubbs',\n",
       "  'permissions': 'ALL',\n",
       "  'system': 'cic.storage',\n",
       "  'type': 'dir'},\n",
       " {'_links': {'self': {'href': 'https://api.tacc.utexas.edu/files/v2/media/system/cic.storage//home/jstubbs/foo'},\n",
       "   'system': {'href': 'https://api.tacc.utexas.edu/systems/v2/cic.storage'}},\n",
       "  'format': 'raw',\n",
       "  'lastModified': '2017-07-20T13:28:30.000-05:00',\n",
       "  'length': 5,\n",
       "  'mimeType': 'application/octet-stream',\n",
       "  'name': 'foo',\n",
       "  'path': '/home/jstubbs/foo',\n",
       "  'permissions': 'READ_WRITE',\n",
       "  'system': 'cic.storage',\n",
       "  'type': 'file'}]"
      ]
     },
     "execution_count": 36,
     "metadata": {},
     "output_type": "execute_result"
    }
   ],
   "source": [
    "rsp.json()['result']"
   ]
  },
  {
   "cell_type": "code",
   "execution_count": 39,
   "metadata": {},
   "outputs": [
    {
     "data": {
      "text/plain": [
       "201"
      ]
     },
     "execution_count": 39,
     "metadata": {},
     "output_type": "execute_result"
    }
   ],
   "source": [
    "# let's create a directory called 'test' inside our home directory. To do this, we make a PUT request \n",
    "# to the files service and we pass a specific payload\n",
    "# note as well that we use the 'media' endpoint instead of the listings endpoint.\n",
    "data = {'action': 'mkdir', 'path': 'test'}\n",
    "rsp = requests.put(url='{}/files/v2/media/system/{}/{}'.format(base_url, system_id, username), data=data, headers=headers)\n",
    "rsp.status_code"
   ]
  },
  {
   "cell_type": "code",
   "execution_count": 40,
   "metadata": {},
   "outputs": [
    {
     "data": {
      "text/plain": [
       "{'_links': {'history': {'href': 'https://api.tacc.utexas.edu/files/v2/history/system/cic.storage//home/jstubbs/test'},\n",
       "  'profile': {'href': 'https://api.tacc.utexas.edu/profiles/v2/jstubbs'},\n",
       "  'self': {'href': 'https://api.tacc.utexas.edu/files/v2/media/system/cic.storage//home/jstubbs/test'},\n",
       "  'system': {'href': 'https://api.tacc.utexas.edu/systems/v2/cic.storage'}},\n",
       " 'internalUsername': None,\n",
       " 'lastModified': '2017-07-20T18:28:02.510-05:00',\n",
       " 'name': 'test',\n",
       " 'nativeFormat': 'dir',\n",
       " 'owner': 'jstubbs',\n",
       " 'path': 'jstubbs/test',\n",
       " 'source': None,\n",
       " 'status': 'TRANSFORMING_COMPLETED',\n",
       " 'systemId': 'cic.storage',\n",
       " 'uuid': '1371613682016129511-242ac113-0001-002'}"
      ]
     },
     "execution_count": 40,
     "metadata": {},
     "output_type": "execute_result"
    }
   ],
   "source": [
    "# check the response\n",
    "rsp.json()['result']"
   ]
  },
  {
   "cell_type": "code",
   "execution_count": 41,
   "metadata": {},
   "outputs": [
    {
     "data": {
      "text/plain": [
       "200"
      ]
     },
     "execution_count": 41,
     "metadata": {},
     "output_type": "execute_result"
    }
   ],
   "source": [
    "# now, let's list our home directory again and check that the directory is there\n",
    "rsp = requests.get('{}/files/v2/listings/system/{}/{}'.format(base_url, system_id, username), headers=headers)\n",
    "rsp.status_code"
   ]
  },
  {
   "cell_type": "code",
   "execution_count": 42,
   "metadata": {},
   "outputs": [
    {
     "data": {
      "text/plain": [
       "[{'_links': {'history': {'href': 'https://api.tacc.utexas.edu/files/v2/history/system/cic.storage//home/jstubbs'},\n",
       "   'metadata': {'href': 'https://api.tacc.utexas.edu/meta/v2/data?q=%7B%22associationIds%22%3A%227129190038640988647-242ac113-0001-002%22%7D'},\n",
       "   'self': {'href': 'https://api.tacc.utexas.edu/files/v2/media/system/cic.storage//home/jstubbs'},\n",
       "   'system': {'href': 'https://api.tacc.utexas.edu/systems/v2/cic.storage'}},\n",
       "  'format': 'folder',\n",
       "  'lastModified': '2017-07-20T18:28:02.000-05:00',\n",
       "  'length': 29,\n",
       "  'mimeType': 'text/directory',\n",
       "  'name': '.',\n",
       "  'path': '/home/jstubbs',\n",
       "  'permissions': 'ALL',\n",
       "  'system': 'cic.storage',\n",
       "  'type': 'dir'},\n",
       " {'_links': {'self': {'href': 'https://api.tacc.utexas.edu/files/v2/media/system/cic.storage//home/jstubbs/foo'},\n",
       "   'system': {'href': 'https://api.tacc.utexas.edu/systems/v2/cic.storage'}},\n",
       "  'format': 'raw',\n",
       "  'lastModified': '2017-07-20T13:28:30.000-05:00',\n",
       "  'length': 5,\n",
       "  'mimeType': 'application/octet-stream',\n",
       "  'name': 'foo',\n",
       "  'path': '/home/jstubbs/foo',\n",
       "  'permissions': 'READ_WRITE',\n",
       "  'system': 'cic.storage',\n",
       "  'type': 'file'},\n",
       " {'_links': {'self': {'href': 'https://api.tacc.utexas.edu/files/v2/media/system/cic.storage//home/jstubbs/test'},\n",
       "   'system': {'href': 'https://api.tacc.utexas.edu/systems/v2/cic.storage'}},\n",
       "  'format': 'folder',\n",
       "  'lastModified': '2017-07-20T18:28:02.000-05:00',\n",
       "  'length': 6,\n",
       "  'mimeType': 'text/directory',\n",
       "  'name': 'test',\n",
       "  'path': '/home/jstubbs/test',\n",
       "  'permissions': 'ALL',\n",
       "  'system': 'cic.storage',\n",
       "  'type': 'dir'}]"
      ]
     },
     "execution_count": 42,
     "metadata": {},
     "output_type": "execute_result"
    }
   ],
   "source": [
    "rsp.json()['result']"
   ]
  },
  {
   "cell_type": "code",
   "execution_count": 43,
   "metadata": {},
   "outputs": [
    {
     "data": {
      "text/plain": [
       "[{'_links': {'history': {'href': 'https://api.tacc.utexas.edu/files/v2/history/system/cic.storage//home/jstubbs/test'},\n",
       "   'metadata': {'href': 'https://api.tacc.utexas.edu/meta/v2/data?q=%7B%22associationIds%22%3A%221371613682016129511-242ac113-0001-002%22%7D'},\n",
       "   'self': {'href': 'https://api.tacc.utexas.edu/files/v2/media/system/cic.storage//home/jstubbs/test'},\n",
       "   'system': {'href': 'https://api.tacc.utexas.edu/systems/v2/cic.storage'}},\n",
       "  'format': 'folder',\n",
       "  'lastModified': '2017-07-20T18:28:02.000-05:00',\n",
       "  'length': 6,\n",
       "  'mimeType': 'text/directory',\n",
       "  'name': '.',\n",
       "  'path': '/home/jstubbs/test',\n",
       "  'permissions': 'ALL',\n",
       "  'system': 'cic.storage',\n",
       "  'type': 'dir'}]"
      ]
     },
     "execution_count": 43,
     "metadata": {},
     "output_type": "execute_result"
    }
   ],
   "source": [
    "# we can also list its contents directly by appending it to the path:\n",
    "rsp = requests.get('{}/files/v2/listings/system/{}/{}/test'.format(base_url, system_id, username), headers=headers)\n",
    "rsp.json()['result']"
   ]
  },
  {
   "cell_type": "markdown",
   "metadata": {},
   "source": [
    "Finally, let's upload and download a file into our new directory. These actions are also done with the media endpoint."
   ]
  },
  {
   "cell_type": "code",
   "execution_count": 54,
   "metadata": {},
   "outputs": [],
   "source": [
    "# first, let's upload a file called foo.txt to our test directory. we'll create the file locally real quick\n",
    "f= open(\"foo.txt\",\"w+\")\n",
    "f.write(\"This is a test.\")\n",
    "f.close()"
   ]
  },
  {
   "cell_type": "code",
   "execution_count": 55,
   "metadata": {},
   "outputs": [
    {
     "name": "stdout",
     "output_type": "stream",
     "text": [
      "total 156\r\n",
      "-rw-r--r-- 1 root root 25703 Jul 20 19:36 Agave API.ipynb\r\n",
      "-rw-r--r-- 1 root root 45279 Jul 20 11:38 Analysis with Dask Distributed.ipynb\r\n",
      "-rw-r--r-- 1 root root 11075 Jul 19 19:45 dask.ipynb\r\n",
      "-rw-r--r-- 1 root root 51034 Jul 19 19:48 dask_small.ipynb\r\n",
      "-rw-r--r-- 1 root root    15 Jul 20 19:36 foo.txt\r\n",
      "-rw-r--r-- 1 root root 10429 Jul 20 16:46 REST APIs - the github API.ipynb\r\n"
     ]
    }
   ],
   "source": [
    "# check that our file is there:\n",
    "! ls -l"
   ]
  },
  {
   "cell_type": "code",
   "execution_count": 56,
   "metadata": {},
   "outputs": [
    {
     "data": {
      "text/plain": [
       "{'_links': {'history': {'href': 'https://api.tacc.utexas.edu/files/v2/history/system/cic.storage//home/jstubbs/test/foo.txt'},\n",
       "  'notification': [],\n",
       "  'profile': {'href': 'https://api.tacc.utexas.edu/profiles/v2/jstubbs'},\n",
       "  'self': {'href': 'https://api.tacc.utexas.edu/files/v2/media/system/cic.storage//home/jstubbs/test/foo.txt'},\n",
       "  'system': {'href': 'https://api.tacc.utexas.edu/systems/v2/cic.storage'}},\n",
       " 'internalUsername': None,\n",
       " 'lastModified': '2017-07-20T18:38:08.353-05:00',\n",
       " 'name': 'foo.txt',\n",
       " 'nativeFormat': 'raw',\n",
       " 'owner': 'jstubbs',\n",
       " 'path': 'jstubbs/test/foo.txt',\n",
       " 'source': 'http://129.114.97.130/foo.txt',\n",
       " 'status': 'STAGING_QUEUED',\n",
       " 'systemId': 'cic.storage',\n",
       " 'uuid': '8947689907714003431-242ac113-0001-002'}"
      ]
     },
     "execution_count": 56,
     "metadata": {},
     "output_type": "execute_result"
    }
   ],
   "source": [
    "# now let's upload the file to the test directory:\n",
    "rsp = requests.post('{}/files/v2/media/system/{}/{}/test'.format(base_url, system_id, username), \n",
    "                    files={'fileToUpload': open('foo.txt', 'rb')}, \n",
    "                    headers=headers)\n",
    "rsp.json()['result']"
   ]
  },
  {
   "cell_type": "markdown",
   "metadata": {},
   "source": [
    "Note that the upload was QUEDED; in other words, our file won't be there instantly. Agave collects the data in the file and queues the transfer to the remote system. Usually, this transfer happens pretty quickly, but on days when Agave is doing a large number of transfers, it can sometimes take a while.\n",
    "\n",
    "Let's check to see if our file is there."
   ]
  },
  {
   "cell_type": "code",
   "execution_count": 57,
   "metadata": {},
   "outputs": [
    {
     "data": {
      "text/plain": [
       "[{'_links': {'history': {'href': 'https://api.tacc.utexas.edu/files/v2/history/system/cic.storage//home/jstubbs/test'},\n",
       "   'metadata': {'href': 'https://api.tacc.utexas.edu/meta/v2/data?q=%7B%22associationIds%22%3A%221371613682016129511-242ac113-0001-002%22%7D'},\n",
       "   'self': {'href': 'https://api.tacc.utexas.edu/files/v2/media/system/cic.storage//home/jstubbs/test'},\n",
       "   'system': {'href': 'https://api.tacc.utexas.edu/systems/v2/cic.storage'}},\n",
       "  'format': 'folder',\n",
       "  'lastModified': '2017-07-20T18:38:08.000-05:00',\n",
       "  'length': 21,\n",
       "  'mimeType': 'text/directory',\n",
       "  'name': '.',\n",
       "  'path': '/home/jstubbs/test',\n",
       "  'permissions': 'ALL',\n",
       "  'system': 'cic.storage',\n",
       "  'type': 'dir'},\n",
       " {'_links': {'self': {'href': 'https://api.tacc.utexas.edu/files/v2/media/system/cic.storage//home/jstubbs/test/foo.txt'},\n",
       "   'system': {'href': 'https://api.tacc.utexas.edu/systems/v2/cic.storage'}},\n",
       "  'format': 'raw',\n",
       "  'lastModified': '2017-07-20T18:38:09.000-05:00',\n",
       "  'length': 15,\n",
       "  'mimeType': 'text/plain',\n",
       "  'name': 'foo.txt',\n",
       "  'path': '/home/jstubbs/test/foo.txt',\n",
       "  'permissions': 'READ_WRITE',\n",
       "  'system': 'cic.storage',\n",
       "  'type': 'file'}]"
      ]
     },
     "execution_count": 57,
     "metadata": {},
     "output_type": "execute_result"
    }
   ],
   "source": [
    "# we can also list its contents directly by appending it to the path:\n",
    "rsp = requests.get('{}/files/v2/listings/system/{}/{}/test'.format(base_url, system_id, username), headers=headers)\n",
    "rsp.json()['result']"
   ]
  },
  {
   "cell_type": "code",
   "execution_count": 59,
   "metadata": {
    "collapsed": true
   },
   "outputs": [],
   "source": [
    "# finally, let's download our file again in a new directory called temp. We'll make that directory first:\n",
    "! mkdir temp"
   ]
  },
  {
   "cell_type": "code",
   "execution_count": 60,
   "metadata": {},
   "outputs": [
    {
     "name": "stdout",
     "output_type": "stream",
     "text": [
      "total 164\r\n",
      "-rw-r--r-- 1 root root 29180 Jul 20 19:40 Agave API.ipynb\r\n",
      "-rw-r--r-- 1 root root 45279 Jul 20 11:38 Analysis with Dask Distributed.ipynb\r\n",
      "-rw-r--r-- 1 root root 11075 Jul 19 19:45 dask.ipynb\r\n",
      "-rw-r--r-- 1 root root 51034 Jul 19 19:48 dask_small.ipynb\r\n",
      "-rw-r--r-- 1 root root    15 Jul 20 19:36 foo.txt\r\n",
      "-rw-r--r-- 1 root root 10429 Jul 20 16:46 REST APIs - the github API.ipynb\r\n",
      "drwxr-xr-x 2 root root  4096 Jul 20 19:41 temp\r\n"
     ]
    }
   ],
   "source": [
    "! ls -l "
   ]
  },
  {
   "cell_type": "code",
   "execution_count": 61,
   "metadata": {
    "collapsed": true
   },
   "outputs": [],
   "source": [
    "# use a GET request to the media endpoint to download the file\n",
    "# the file comes to us in raw bytes, so we are responsible for writing it to disk.\n",
    "with open('temp/foo.txt', 'wb') as f:\n",
    "    rsp = requests.get('{}/files/v2/media/system/{}/{}/test/foo.txt'.format(base_url, system_id, username), headers=headers)\n",
    "    for block in rsp.iter_content(1024):\n",
    "        if not block:\n",
    "            break\n",
    "        f.write(block)    \n"
   ]
  },
  {
   "cell_type": "code",
   "execution_count": 62,
   "metadata": {},
   "outputs": [
    {
     "name": "stdout",
     "output_type": "stream",
     "text": [
      "total 4\r\n",
      "-rw-r--r-- 1 root root 15 Jul 20 19:52 foo.txt\r\n"
     ]
    }
   ],
   "source": [
    "! ls -l temp/"
   ]
  },
  {
   "cell_type": "code",
   "execution_count": 63,
   "metadata": {},
   "outputs": [
    {
     "name": "stdout",
     "output_type": "stream",
     "text": [
      "This is a test."
     ]
    }
   ],
   "source": [
    "! cat temp/foo.txt"
   ]
  },
  {
   "cell_type": "code",
   "execution_count": null,
   "metadata": {
    "collapsed": true
   },
   "outputs": [],
   "source": []
  }
 ],
 "metadata": {
  "kernelspec": {
   "display_name": "Python 3",
   "language": "python",
   "name": "python3"
  },
  "language_info": {
   "codemirror_mode": {
    "name": "ipython",
    "version": 3
   },
   "file_extension": ".py",
   "mimetype": "text/x-python",
   "name": "python",
   "nbconvert_exporter": "python",
   "pygments_lexer": "ipython3",
   "version": "3.6.1"
  }
 },
 "nbformat": 4,
 "nbformat_minor": 2
}
