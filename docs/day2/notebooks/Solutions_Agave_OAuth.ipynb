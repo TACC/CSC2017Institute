{
 "cells": [
  {
   "cell_type": "markdown",
   "metadata": {},
   "source": [
    "# Solutions to Agave OAuth Exercises\n"
   ]
  },
  {
   "cell_type": "code",
   "execution_count": 4,
   "metadata": {
    "collapsed": true
   },
   "outputs": [],
   "source": [
    "# import the requests library\n",
    "import requests\n",
    "\n",
    "# import getpass to prompt for a password\n",
    "from getpass import getpass"
   ]
  },
  {
   "cell_type": "code",
   "execution_count": 5,
   "metadata": {
    "collapsed": true
   },
   "outputs": [],
   "source": [
    "# the base URL for interacting with the Agave API\n",
    "base_url = 'https://api.tacc.utexas.edu'"
   ]
  },
  {
   "cell_type": "code",
   "execution_count": 6,
   "metadata": {},
   "outputs": [
    {
     "name": "stdout",
     "output_type": "stream",
     "text": [
      "Hello jstubbs. Please enter your TACC password: ········\n"
     ]
    }
   ],
   "source": [
    "# Set up your TACC credentials. Modify the username appropriately\n",
    "username = 'jstubbs'\n",
    "password = getpass(prompt='Hello {}. Please enter your TACC password: '.format(username))"
   ]
  },
  {
   "cell_type": "code",
   "execution_count": 16,
   "metadata": {},
   "outputs": [
    {
     "data": {
      "text/plain": [
       "200"
      ]
     },
     "execution_count": 16,
     "metadata": {},
     "output_type": "execute_result"
    }
   ],
   "source": [
    "rsp = requests.get(url='{}/clients/v2'.format(base_url), auth=(username, password))\n",
    "rsp.status_code"
   ]
  },
  {
   "cell_type": "code",
   "execution_count": 17,
   "metadata": {},
   "outputs": [
    {
     "data": {
      "text/plain": [
       "{'message': 'Clients retrieved successfully.',\n",
       " 'result': [{'_links': {'self': {'href': 'https://api.tacc.utexas.edu/clients/v2/DefaultApplication'},\n",
       "    'subscriber': {'href': 'https://api.tacc.utexas.edu/profiles/v2/jstubbs'},\n",
       "    'subscriptions': {'href': 'https://api.tacc.utexas.edu/clients/v2/DefaultApplication/subscriptions/'}},\n",
       "   'callbackUrl': None,\n",
       "   'consumerKey': 'VzN6Cxj9GirfMsINqUVQxbhrQSQa',\n",
       "   'description': None,\n",
       "   'name': 'DefaultApplication',\n",
       "   'tier': 'Unlimited'},\n",
       "  {'_links': {'self': {'href': 'https://api.tacc.utexas.edu/clients/v2/postman'},\n",
       "    'subscriber': {'href': 'https://api.tacc.utexas.edu/profiles/v2/jstubbs'},\n",
       "    'subscriptions': {'href': 'https://api.tacc.utexas.edu/clients/v2/postman/subscriptions/'}},\n",
       "   'callbackUrl': 'https://www.getpostman.com/oauth2/callback',\n",
       "   'consumerKey': 'fYEbfnaxo4LbqShSebng4f5LD18a',\n",
       "   'description': '',\n",
       "   'name': 'postman',\n",
       "   'tier': 'Unlimited'},\n",
       "  {'_links': {'self': {'href': 'https://api.tacc.utexas.edu/clients/v2/testoauth'},\n",
       "    'subscriber': {'href': 'https://api.tacc.utexas.edu/profiles/v2/jstubbs'},\n",
       "    'subscriptions': {'href': 'https://api.tacc.utexas.edu/clients/v2/testoauth/subscriptions/'}},\n",
       "   'callbackUrl': 'http://localhost:8000/oauth2/token',\n",
       "   'consumerKey': 'BDvU32CJYamIDCTakKD3JctS6K4a',\n",
       "   'description': '',\n",
       "   'name': 'testoauth',\n",
       "   'tier': 'Unlimited'}],\n",
       " 'status': 'success',\n",
       " 'version': '2.0.0-SNAPSHOT-rc3fad'}"
      ]
     },
     "execution_count": 17,
     "metadata": {},
     "output_type": "execute_result"
    }
   ],
   "source": [
    "# the clients service, like all Agave services, returns us JSON:\n",
    "rsp.json()"
   ]
  },
  {
   "cell_type": "markdown",
   "metadata": {},
   "source": [
    "To create a simple OAuth client that has access to all basic Agave APIs, we need to make a POST request to the clients service. The only required field we need to pass in is `clientName` to give a name to our client. Each client we create must have a unique name."
   ]
  },
  {
   "cell_type": "code",
   "execution_count": 18,
   "metadata": {},
   "outputs": [
    {
     "data": {
      "text/plain": [
       "201"
      ]
     },
     "execution_count": 18,
     "metadata": {},
     "output_type": "execute_result"
    }
   ],
   "source": [
    "# Pick a name for your client; this name will have to be different every time you run this cell. Otherwise, you\n",
    "# will try to recreate a client with the same name and you will get an error.\n",
    "client_name = 'cic_institute'\n",
    "\n",
    "# make a POST request to the client's service, passing only that field. \n",
    "# Note that the parameter name uses camel case\n",
    "data = {'clientName': client_name}\n",
    "rsp = requests.post(url='{}/clients/v2'.format(base_url), data=data, auth=(username, password))\n",
    "rsp.status_code"
   ]
  },
  {
   "cell_type": "code",
   "execution_count": 19,
   "metadata": {},
   "outputs": [
    {
     "data": {
      "text/plain": [
       "{'message': 'Client created successfully.',\n",
       " 'result': {'_links': {'self': {'href': 'https://api.tacc.utexas.edu/clients/v2/cic_institute'},\n",
       "   'subscriber': {'href': 'https://api.tacc.utexas.edu/profiles/v2/jstubbs'},\n",
       "   'subscriptions': {'href': 'https://api.tacc.utexas.edu/clients/v2/cic_institute/subscriptions/'}},\n",
       "  'callbackUrl': '',\n",
       "  'consumerKey': 'f_9vaEvm3oxCnNe9Z4VoxRXZGwca',\n",
       "  'consumerSecret': 'MTXYtMiwOmxNI2mRLrwOwG_9Vpwa',\n",
       "  'description': '',\n",
       "  'name': 'cic_institute',\n",
       "  'tier': 'Unlimited'},\n",
       " 'status': 'success',\n",
       " 'version': '2.0.0-SNAPSHOT-rc3fad'}"
      ]
     },
     "execution_count": 19,
     "metadata": {},
     "output_type": "execute_result"
    }
   ],
   "source": [
    "rsp.json()"
   ]
  },
  {
   "cell_type": "code",
   "execution_count": 21,
   "metadata": {
    "collapsed": true
   },
   "outputs": [],
   "source": [
    "key = rsp.json()['result']['consumerKey']"
   ]
  },
  {
   "cell_type": "code",
   "execution_count": 22,
   "metadata": {
    "collapsed": true
   },
   "outputs": [],
   "source": [
    "secret = rsp.json()['result']['consumerSecret']"
   ]
  },
  {
   "cell_type": "code",
   "execution_count": 23,
   "metadata": {},
   "outputs": [
    {
     "data": {
      "text/plain": [
       "200"
      ]
     },
     "execution_count": 23,
     "metadata": {},
     "output_type": "execute_result"
    }
   ],
   "source": [
    "# POST payload for generating a token using the password grant:\n",
    "# scope will always be PRODUCTION.\n",
    "data = {'username': username,\n",
    "       'password': password,\n",
    "       'grant_type': 'password',\n",
    "       'scope': 'PRODUCTION'}\n",
    "# note that authentication is technically HTTPBasicAuth with the OAuth client key and secret\n",
    "rsp = requests.post('{}/token'.format(base_url), data=data, auth=(key, secret))\n",
    "rsp.status_code"
   ]
  },
  {
   "cell_type": "code",
   "execution_count": 24,
   "metadata": {},
   "outputs": [
    {
     "data": {
      "text/plain": [
       "{'access_token': '6f8f0b94c413c8a7b5ba428bd50d4',\n",
       " 'expires_in': 14400,\n",
       " 'refresh_token': 'dafb6ab783b8edd2cfceda40a7f134',\n",
       " 'scope': 'default',\n",
       " 'token_type': 'bearer'}"
      ]
     },
     "execution_count": 24,
     "metadata": {},
     "output_type": "execute_result"
    }
   ],
   "source": [
    "# check the response message:\n",
    "rsp.json()"
   ]
  },
  {
   "cell_type": "code",
   "execution_count": 26,
   "metadata": {
    "collapsed": true
   },
   "outputs": [],
   "source": [
    "# pull out the access and refresh tokens\n",
    "access_token = rsp.json()['access_token']\n",
    "refresh_token = rsp.json()['refresh_token']"
   ]
  },
  {
   "cell_type": "code",
   "execution_count": 27,
   "metadata": {},
   "outputs": [
    {
     "data": {
      "text/plain": [
       "200"
      ]
     },
     "execution_count": 27,
     "metadata": {},
     "output_type": "execute_result"
    }
   ],
   "source": [
    "# build the Authorization header in a headers dictionary\n",
    "headers = {'Authorization': 'Bearer {}'.format(access_token)}\n",
    "\n",
    "# make a request to the profiles service; the \"me\" endpoint is a special reserved word in Agave to indicate\n",
    "# we want information about the associated token.\n",
    "rsp = requests.get(url='{}/profiles/v2/me'.format(base_url), headers=headers)\n",
    "rsp.status_code"
   ]
  },
  {
   "cell_type": "code",
   "execution_count": 28,
   "metadata": {},
   "outputs": [
    {
     "data": {
      "text/plain": [
       "{'message': 'User details retrieved successfully.',\n",
       " 'result': {'create_time': '20140515180254Z',\n",
       "  'email': 'jstubbs@tacc.utexas.edu',\n",
       "  'first_name': 'Joe',\n",
       "  'full_name': 'jstubbs',\n",
       "  'last_name': 'Stubbs',\n",
       "  'mobile_phone': '',\n",
       "  'phone': '',\n",
       "  'status': '',\n",
       "  'username': 'jstubbs'},\n",
       " 'status': 'success',\n",
       " 'version': '2.0.0-SNAPSHOT-rc3fad'}"
      ]
     },
     "execution_count": 28,
     "metadata": {},
     "output_type": "execute_result"
    }
   ],
   "source": [
    "# check the json response\n",
    "rsp.json()"
   ]
  },
  {
   "cell_type": "markdown",
   "metadata": {},
   "source": [
    "Indeed, the profile belongs to me. We are now ready to interact with Agave's cloud storage."
   ]
  }
 ],
 "metadata": {
  "kernelspec": {
   "display_name": "Python 3",
   "language": "python",
   "name": "python3"
  },
  "language_info": {
   "codemirror_mode": {
    "name": "ipython",
    "version": 3
   },
   "file_extension": ".py",
   "mimetype": "text/x-python",
   "name": "python",
   "nbconvert_exporter": "python",
   "pygments_lexer": "ipython3",
   "version": "3.6.1"
  }
 },
 "nbformat": 4,
 "nbformat_minor": 2
}
