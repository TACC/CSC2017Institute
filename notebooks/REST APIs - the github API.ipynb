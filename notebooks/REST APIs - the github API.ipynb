{
 "cells": [
  {
   "cell_type": "markdown",
   "metadata": {},
   "source": [
    "# Working with the github API\n",
    "\n",
    "In this notebook, we work explore the github API by makig some example requests. The full documentation on the github API is available here: https://developer.github.com/v3/"
   ]
  },
  {
   "cell_type": "markdown",
   "metadata": {},
   "source": [
    "For all of our calls, we will be using the Python requests library. Documentation on requests is available here: http://docs.python-requests.org/en/master/"
   ]
  },
  {
   "cell_type": "code",
   "execution_count": 2,
   "metadata": {
    "collapsed": true
   },
   "outputs": [],
   "source": [
    "# import the requests library\n",
    "import requests\n",
    "\n",
    "# import the json parsing library\n",
    "import json"
   ]
  },
  {
   "cell_type": "code",
   "execution_count": 6,
   "metadata": {
    "collapsed": true
   },
   "outputs": [],
   "source": [
    "# base URL for all github API requests\n",
    "base_url = 'https://api.github.com'"
   ]
  },
  {
   "cell_type": "code",
   "execution_count": 7,
   "metadata": {
    "collapsed": true
   },
   "outputs": [],
   "source": [
    "# make a basic GET request to the 'users' collection\n",
    "rsp = requests.get('{}/users'.format(base_url))"
   ]
  },
  {
   "cell_type": "code",
   "execution_count": 8,
   "metadata": {},
   "outputs": [
    {
     "data": {
      "text/plain": [
       "200"
      ]
     },
     "execution_count": 8,
     "metadata": {},
     "output_type": "execute_result"
    }
   ],
   "source": [
    "# check the status code:\n",
    "rsp.status_code"
   ]
  },
  {
   "cell_type": "code",
   "execution_count": 9,
   "metadata": {
    "collapsed": true
   },
   "outputs": [],
   "source": [
    "# pull json out of the response:\n",
    "result = rsp.json()"
   ]
  },
  {
   "cell_type": "code",
   "execution_count": 13,
   "metadata": {},
   "outputs": [
    {
     "data": {
      "text/plain": [
       "list"
      ]
     },
     "execution_count": 13,
     "metadata": {},
     "output_type": "execute_result"
    }
   ],
   "source": [
    "# what kind of thingy is result?\n",
    "type(result)"
   ]
  },
  {
   "cell_type": "code",
   "execution_count": 14,
   "metadata": {},
   "outputs": [
    {
     "data": {
      "text/plain": [
       "30"
      ]
     },
     "execution_count": 14,
     "metadata": {},
     "output_type": "execute_result"
    }
   ],
   "source": [
    "# oh, interesting; it's just a python list. let's check how many user records were returned:\n",
    "len(result)"
   ]
  },
  {
   "cell_type": "code",
   "execution_count": 15,
   "metadata": {},
   "outputs": [
    {
     "data": {
      "text/plain": [
       "{'avatar_url': 'https://avatars0.githubusercontent.com/u/1?v=4',\n",
       " 'events_url': 'https://api.github.com/users/mojombo/events{/privacy}',\n",
       " 'followers_url': 'https://api.github.com/users/mojombo/followers',\n",
       " 'following_url': 'https://api.github.com/users/mojombo/following{/other_user}',\n",
       " 'gists_url': 'https://api.github.com/users/mojombo/gists{/gist_id}',\n",
       " 'gravatar_id': '',\n",
       " 'html_url': 'https://github.com/mojombo',\n",
       " 'id': 1,\n",
       " 'login': 'mojombo',\n",
       " 'organizations_url': 'https://api.github.com/users/mojombo/orgs',\n",
       " 'received_events_url': 'https://api.github.com/users/mojombo/received_events',\n",
       " 'repos_url': 'https://api.github.com/users/mojombo/repos',\n",
       " 'site_admin': False,\n",
       " 'starred_url': 'https://api.github.com/users/mojombo/starred{/owner}{/repo}',\n",
       " 'subscriptions_url': 'https://api.github.com/users/mojombo/subscriptions',\n",
       " 'type': 'User',\n",
       " 'url': 'https://api.github.com/users/mojombo'}"
      ]
     },
     "execution_count": 15,
     "metadata": {},
     "output_type": "execute_result"
    }
   ],
   "source": [
    "# let's look at the first record:\n",
    "result[0]"
   ]
  },
  {
   "cell_type": "code",
   "execution_count": 16,
   "metadata": {},
   "outputs": [
    {
     "data": {
      "text/plain": [
       "dict"
      ]
     },
     "execution_count": 16,
     "metadata": {},
     "output_type": "execute_result"
    }
   ],
   "source": [
    "# and what kind of thingy is that?\n",
    "type(result[0])"
   ]
  },
  {
   "cell_type": "code",
   "execution_count": 17,
   "metadata": {},
   "outputs": [
    {
     "data": {
      "text/plain": [
       "'https://api.github.com/users/mojombo'"
      ]
     },
     "execution_count": 17,
     "metadata": {},
     "output_type": "execute_result"
    }
   ],
   "source": [
    "# oh cool, a python dictionary. we can access the data under specific keys like so:\n",
    "result[0]['url']"
   ]
  },
  {
   "cell_type": "code",
   "execution_count": 18,
   "metadata": {
    "collapsed": true
   },
   "outputs": [],
   "source": [
    "# so now let's look ourselves:\n",
    "my_github_account = 'joestubbs'\n",
    "rsp2 = requests.get('{}/users/{}'.format(base_url, my_github_account))"
   ]
  },
  {
   "cell_type": "code",
   "execution_count": 19,
   "metadata": {},
   "outputs": [
    {
     "data": {
      "text/plain": [
       "200"
      ]
     },
     "execution_count": 19,
     "metadata": {},
     "output_type": "execute_result"
    }
   ],
   "source": [
    "# did that work?\n",
    "rsp2.status_code"
   ]
  },
  {
   "cell_type": "code",
   "execution_count": 21,
   "metadata": {},
   "outputs": [
    {
     "data": {
      "text/plain": [
       "{'avatar_url': 'https://avatars0.githubusercontent.com/u/843091?v=4',\n",
       " 'bio': None,\n",
       " 'blog': '',\n",
       " 'company': 'TACC',\n",
       " 'created_at': '2011-06-10T22:17:38Z',\n",
       " 'email': None,\n",
       " 'events_url': 'https://api.github.com/users/joestubbs/events{/privacy}',\n",
       " 'followers': 5,\n",
       " 'followers_url': 'https://api.github.com/users/joestubbs/followers',\n",
       " 'following': 2,\n",
       " 'following_url': 'https://api.github.com/users/joestubbs/following{/other_user}',\n",
       " 'gists_url': 'https://api.github.com/users/joestubbs/gists{/gist_id}',\n",
       " 'gravatar_id': '',\n",
       " 'hireable': None,\n",
       " 'html_url': 'https://github.com/joestubbs',\n",
       " 'id': 843091,\n",
       " 'location': 'Austin, TX',\n",
       " 'login': 'joestubbs',\n",
       " 'name': 'Joe Stubbs',\n",
       " 'organizations_url': 'https://api.github.com/users/joestubbs/orgs',\n",
       " 'public_gists': 1,\n",
       " 'public_repos': 8,\n",
       " 'received_events_url': 'https://api.github.com/users/joestubbs/received_events',\n",
       " 'repos_url': 'https://api.github.com/users/joestubbs/repos',\n",
       " 'site_admin': False,\n",
       " 'starred_url': 'https://api.github.com/users/joestubbs/starred{/owner}{/repo}',\n",
       " 'subscriptions_url': 'https://api.github.com/users/joestubbs/subscriptions',\n",
       " 'type': 'User',\n",
       " 'updated_at': '2017-06-29T01:50:42Z',\n",
       " 'url': 'https://api.github.com/users/joestubbs'}"
      ]
     },
     "execution_count": 21,
     "metadata": {},
     "output_type": "execute_result"
    }
   ],
   "source": [
    "# cool. what's in there?\n",
    "rsp2.json()"
   ]
  },
  {
   "cell_type": "code",
   "execution_count": 23,
   "metadata": {},
   "outputs": [
    {
     "data": {
      "text/plain": [
       "'Joe Stubbs'"
      ]
     },
     "execution_count": 23,
     "metadata": {},
     "output_type": "execute_result"
    }
   ],
   "source": [
    "# ok, more detail that the summary in the listing. similarly, we can pull out specific info:\n",
    "rsp2.json()['name']"
   ]
  },
  {
   "cell_type": "code",
   "execution_count": 24,
   "metadata": {
    "collapsed": true
   },
   "outputs": [],
   "source": [
    "# let's look at a subcollection -- the followers i have:\n",
    "rsp3 = requests.get('{}/users/{}/followers'.format(base_url, my_github_account))"
   ]
  },
  {
   "cell_type": "code",
   "execution_count": 25,
   "metadata": {},
   "outputs": [
    {
     "data": {
      "text/plain": [
       "200"
      ]
     },
     "execution_count": 25,
     "metadata": {},
     "output_type": "execute_result"
    }
   ],
   "source": [
    "rsp3.status_code"
   ]
  },
  {
   "cell_type": "code",
   "execution_count": 28,
   "metadata": {},
   "outputs": [
    {
     "data": {
      "text/plain": [
       "{'avatar_url': 'https://avatars1.githubusercontent.com/u/1231439?v=4',\n",
       " 'events_url': 'https://api.github.com/users/waltermoreira/events{/privacy}',\n",
       " 'followers_url': 'https://api.github.com/users/waltermoreira/followers',\n",
       " 'following_url': 'https://api.github.com/users/waltermoreira/following{/other_user}',\n",
       " 'gists_url': 'https://api.github.com/users/waltermoreira/gists{/gist_id}',\n",
       " 'gravatar_id': '',\n",
       " 'html_url': 'https://github.com/waltermoreira',\n",
       " 'id': 1231439,\n",
       " 'login': 'waltermoreira',\n",
       " 'organizations_url': 'https://api.github.com/users/waltermoreira/orgs',\n",
       " 'received_events_url': 'https://api.github.com/users/waltermoreira/received_events',\n",
       " 'repos_url': 'https://api.github.com/users/waltermoreira/repos',\n",
       " 'site_admin': False,\n",
       " 'starred_url': 'https://api.github.com/users/waltermoreira/starred{/owner}{/repo}',\n",
       " 'subscriptions_url': 'https://api.github.com/users/waltermoreira/subscriptions',\n",
       " 'type': 'User',\n",
       " 'url': 'https://api.github.com/users/waltermoreira'}"
      ]
     },
     "execution_count": 28,
     "metadata": {},
     "output_type": "execute_result"
    }
   ],
   "source": [
    "rsp3.json()[0]"
   ]
  },
  {
   "cell_type": "code",
   "execution_count": null,
   "metadata": {
    "collapsed": true
   },
   "outputs": [],
   "source": []
  }
 ],
 "metadata": {
  "kernelspec": {
   "display_name": "Python 3",
   "language": "python",
   "name": "python3"
  },
  "language_info": {
   "codemirror_mode": {
    "name": "ipython",
    "version": 3
   },
   "file_extension": ".py",
   "mimetype": "text/x-python",
   "name": "python",
   "nbconvert_exporter": "python",
   "pygments_lexer": "ipython3",
   "version": "3.6.1"
  }
 },
 "nbformat": 4,
 "nbformat_minor": 2
}
