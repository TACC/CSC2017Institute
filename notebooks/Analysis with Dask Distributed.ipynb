{
 "cells": [
  {
   "cell_type": "code",
   "execution_count": 25,
   "metadata": {
    "collapsed": true
   },
   "outputs": [],
   "source": [
    "from dask.distributed import Client, Executor, progress"
   ]
  },
  {
   "cell_type": "code",
   "execution_count": 26,
   "metadata": {
    "collapsed": true
   },
   "outputs": [],
   "source": [
    "from dask import dataframe as dd"
   ]
  },
  {
   "cell_type": "code",
   "execution_count": 27,
   "metadata": {
    "collapsed": true
   },
   "outputs": [],
   "source": [
    "client = Client('10.10.100.7:8786')"
   ]
  },
  {
   "cell_type": "code",
   "execution_count": 28,
   "metadata": {},
   "outputs": [
    {
     "data": {
      "text/plain": [
       "<Client: scheduler='tcp://10.10.100.7:8786' processes=3 cores=18>"
      ]
     },
     "execution_count": 28,
     "metadata": {},
     "output_type": "execute_result"
    }
   ],
   "source": [
    "client"
   ]
  },
  {
   "cell_type": "code",
   "execution_count": 29,
   "metadata": {
    "scrolled": true
   },
   "outputs": [
    {
     "data": {
      "text/plain": [
       "{'client': {'host': [('python', '3.6.1.final.0'),\n",
       "   ('python-bits', 64),\n",
       "   ('OS', 'Linux'),\n",
       "   ('OS-release', '4.4.0-81-generic'),\n",
       "   ('machine', 'x86_64'),\n",
       "   ('processor', 'x86_64'),\n",
       "   ('byteorder', 'little'),\n",
       "   ('LC_ALL', 'None'),\n",
       "   ('LANG', 'en_US.UTF-8'),\n",
       "   ('LOCALE', 'en_US.UTF-8')],\n",
       "  'packages': {'optional': [('numpy', '1.12.1'), ('pandas', '0.20.1')],\n",
       "   'required': [('dask', '0.14.3'),\n",
       "    ('distributed', '1.16.3'),\n",
       "    ('msgpack', '0.4.8'),\n",
       "    ('cloudpickle', '0.2.2'),\n",
       "    ('toolz', '0.8.2')]}},\n",
       " 'scheduler': {'host': [['python', '3.6.1.final.0'],\n",
       "   ['python-bits', 64],\n",
       "   ['OS', 'Linux'],\n",
       "   ['OS-release', '4.4.0-81-generic'],\n",
       "   ['machine', 'x86_64'],\n",
       "   ['processor', 'x86_64'],\n",
       "   ['byteorder', 'little'],\n",
       "   ['LC_ALL', 'None'],\n",
       "   ['LANG', 'en_US.UTF-8'],\n",
       "   ['LOCALE', 'en_US.UTF-8']],\n",
       "  'packages': {'optional': [['numpy', '1.12.1'], ['pandas', '0.20.1']],\n",
       "   'required': [['dask', '0.14.3'],\n",
       "    ['distributed', '1.16.3'],\n",
       "    ['msgpack', '0.4.8'],\n",
       "    ['cloudpickle', '0.2.2'],\n",
       "    ['toolz', '0.8.2']]}},\n",
       " 'workers': {'tcp://10.10.100.10:46476': {'host': [('python', '3.6.1.final.0'),\n",
       "    ('python-bits', 64),\n",
       "    ('OS', 'Linux'),\n",
       "    ('OS-release', '4.4.0-81-generic'),\n",
       "    ('machine', 'x86_64'),\n",
       "    ('processor', 'x86_64'),\n",
       "    ('byteorder', 'little'),\n",
       "    ('LC_ALL', 'None'),\n",
       "    ('LANG', 'en_US.UTF-8'),\n",
       "    ('LOCALE', 'en_US.UTF-8')],\n",
       "   'packages': {'optional': [('numpy', '1.12.1'), ('pandas', '0.20.1')],\n",
       "    'required': [('dask', '0.14.3'),\n",
       "     ('distributed', '1.16.3'),\n",
       "     ('msgpack', '0.4.8'),\n",
       "     ('cloudpickle', '0.2.2'),\n",
       "     ('toolz', '0.8.2')]}},\n",
       "  'tcp://10.10.100.7:43000': {'host': [('python', '3.6.1.final.0'),\n",
       "    ('python-bits', 64),\n",
       "    ('OS', 'Linux'),\n",
       "    ('OS-release', '4.4.0-81-generic'),\n",
       "    ('machine', 'x86_64'),\n",
       "    ('processor', 'x86_64'),\n",
       "    ('byteorder', 'little'),\n",
       "    ('LC_ALL', 'None'),\n",
       "    ('LANG', 'en_US.UTF-8'),\n",
       "    ('LOCALE', 'en_US.UTF-8')],\n",
       "   'packages': {'optional': [('numpy', '1.12.1'), ('pandas', '0.20.1')],\n",
       "    'required': [('dask', '0.14.3'),\n",
       "     ('distributed', '1.16.3'),\n",
       "     ('msgpack', '0.4.8'),\n",
       "     ('cloudpickle', '0.2.2'),\n",
       "     ('toolz', '0.8.2')]}},\n",
       "  'tcp://10.10.100.9:44015': {'host': [('python', '3.6.1.final.0'),\n",
       "    ('python-bits', 64),\n",
       "    ('OS', 'Linux'),\n",
       "    ('OS-release', '4.4.0-81-generic'),\n",
       "    ('machine', 'x86_64'),\n",
       "    ('processor', 'x86_64'),\n",
       "    ('byteorder', 'little'),\n",
       "    ('LC_ALL', 'None'),\n",
       "    ('LANG', 'en_US.UTF-8'),\n",
       "    ('LOCALE', 'en_US.UTF-8')],\n",
       "   'packages': {'optional': [('numpy', '1.12.1'), ('pandas', '0.20.1')],\n",
       "    'required': [('dask', '0.14.3'),\n",
       "     ('distributed', '1.16.3'),\n",
       "     ('msgpack', '0.4.8'),\n",
       "     ('cloudpickle', '0.2.2'),\n",
       "     ('toolz', '0.8.2')]}}}}"
      ]
     },
     "execution_count": 29,
     "metadata": {},
     "output_type": "execute_result"
    }
   ],
   "source": [
    "client.get_versions(check=True)"
   ]
  },
  {
   "cell_type": "code",
   "execution_count": 30,
   "metadata": {},
   "outputs": [
    {
     "data": {
      "application/vnd.jupyter.widget-view+json": {
       "model_id": "4e13c195ad234a4e96f9786cf3bc05a1"
      }
     },
     "metadata": {},
     "output_type": "display_data"
    }
   ],
   "source": [
    "# create the dataframe by reading in the CSV\n",
    "csv = '/root/stackoverflow.csv'\n",
    "\n",
    "# load the csv file into a dask dataframe\n",
    "df = dd.read_csv(csv)\n",
    "df2= client.persist(df)\n",
    "progress(df2)"
   ]
  },
  {
   "cell_type": "code",
   "execution_count": 31,
   "metadata": {},
   "outputs": [
    {
     "data": {
      "text/html": [
       "<div>\n",
       "<style>\n",
       "    .dataframe thead tr:only-child th {\n",
       "        text-align: right;\n",
       "    }\n",
       "\n",
       "    .dataframe thead th {\n",
       "        text-align: left;\n",
       "    }\n",
       "\n",
       "    .dataframe tbody tr th {\n",
       "        vertical-align: top;\n",
       "    }\n",
       "</style>\n",
       "<table border=\"1\" class=\"dataframe\">\n",
       "  <thead>\n",
       "    <tr style=\"text-align: right;\">\n",
       "      <th></th>\n",
       "      <th>Unnamed: 0</th>\n",
       "      <th>id</th>\n",
       "      <th>owneruserid</th>\n",
       "      <th>posttypeid</th>\n",
       "      <th>creationdate</th>\n",
       "      <th>CreationDayOfWeek</th>\n",
       "      <th>acceptedanswerid</th>\n",
       "      <th>score</th>\n",
       "      <th>answercount</th>\n",
       "      <th>viewcount</th>\n",
       "      <th>...</th>\n",
       "      <th>CommentCount</th>\n",
       "      <th>FavoriteCount</th>\n",
       "      <th>site</th>\n",
       "      <th>acceptedAnswerId</th>\n",
       "      <th>acceptedAnswerCreationDate</th>\n",
       "      <th>acceptedAnswerCreationDayOfWeek</th>\n",
       "      <th>acceptedAnswerScore</th>\n",
       "      <th>acceptedAnswerCommentCount</th>\n",
       "      <th>acceptedAnswerOwnerUserId</th>\n",
       "      <th>site.1</th>\n",
       "    </tr>\n",
       "  </thead>\n",
       "  <tbody>\n",
       "    <tr>\n",
       "      <th>0</th>\n",
       "      <td>0</td>\n",
       "      <td>4</td>\n",
       "      <td>8</td>\n",
       "      <td>1</td>\n",
       "      <td>2008-07-31 21:42:53</td>\n",
       "      <td>5</td>\n",
       "      <td>7.0</td>\n",
       "      <td>491</td>\n",
       "      <td>13</td>\n",
       "      <td>31416</td>\n",
       "      <td>...</td>\n",
       "      <td>4</td>\n",
       "      <td>37</td>\n",
       "      <td>stackoverflow</td>\n",
       "      <td>7.0</td>\n",
       "      <td>2008-07-31 22:17:58</td>\n",
       "      <td>5.0</td>\n",
       "      <td>349.0</td>\n",
       "      <td>1.0</td>\n",
       "      <td>9.0</td>\n",
       "      <td>stackoverflow</td>\n",
       "    </tr>\n",
       "    <tr>\n",
       "      <th>1</th>\n",
       "      <td>1</td>\n",
       "      <td>6</td>\n",
       "      <td>9</td>\n",
       "      <td>1</td>\n",
       "      <td>2008-07-31 22:08:09</td>\n",
       "      <td>5</td>\n",
       "      <td>31.0</td>\n",
       "      <td>217</td>\n",
       "      <td>5</td>\n",
       "      <td>14712</td>\n",
       "      <td>...</td>\n",
       "      <td>0</td>\n",
       "      <td>8</td>\n",
       "      <td>stackoverflow</td>\n",
       "      <td>31.0</td>\n",
       "      <td>2008-08-01 12:22:52</td>\n",
       "      <td>6.0</td>\n",
       "      <td>111.0</td>\n",
       "      <td>0.0</td>\n",
       "      <td>0.0</td>\n",
       "      <td>stackoverflow</td>\n",
       "    </tr>\n",
       "    <tr>\n",
       "      <th>2</th>\n",
       "      <td>2</td>\n",
       "      <td>9</td>\n",
       "      <td>1</td>\n",
       "      <td>1</td>\n",
       "      <td>2008-07-31 23:41:00</td>\n",
       "      <td>5</td>\n",
       "      <td>1404.0</td>\n",
       "      <td>1509</td>\n",
       "      <td>58</td>\n",
       "      <td>388201</td>\n",
       "      <td>...</td>\n",
       "      <td>6</td>\n",
       "      <td>341</td>\n",
       "      <td>stackoverflow</td>\n",
       "      <td>1404.0</td>\n",
       "      <td>2008-08-04 16:50:06</td>\n",
       "      <td>2.0</td>\n",
       "      <td>1403.0</td>\n",
       "      <td>30.0</td>\n",
       "      <td>212.0</td>\n",
       "      <td>stackoverflow</td>\n",
       "    </tr>\n",
       "    <tr>\n",
       "      <th>3</th>\n",
       "      <td>3</td>\n",
       "      <td>11</td>\n",
       "      <td>1</td>\n",
       "      <td>1</td>\n",
       "      <td>2008-07-31 23:55:38</td>\n",
       "      <td>5</td>\n",
       "      <td>1248.0</td>\n",
       "      <td>1182</td>\n",
       "      <td>33</td>\n",
       "      <td>120658</td>\n",
       "      <td>...</td>\n",
       "      <td>3</td>\n",
       "      <td>517</td>\n",
       "      <td>stackoverflow</td>\n",
       "      <td>1248.0</td>\n",
       "      <td>2008-08-04 13:57:26</td>\n",
       "      <td>2.0</td>\n",
       "      <td>792.0</td>\n",
       "      <td>16.0</td>\n",
       "      <td>268.0</td>\n",
       "      <td>stackoverflow</td>\n",
       "    </tr>\n",
       "    <tr>\n",
       "      <th>4</th>\n",
       "      <td>4</td>\n",
       "      <td>13</td>\n",
       "      <td>9</td>\n",
       "      <td>1</td>\n",
       "      <td>2008-08-01 00:42:39</td>\n",
       "      <td>6</td>\n",
       "      <td>NaN</td>\n",
       "      <td>482</td>\n",
       "      <td>24</td>\n",
       "      <td>138485</td>\n",
       "      <td>...</td>\n",
       "      <td>3</td>\n",
       "      <td>123</td>\n",
       "      <td>stackoverflow</td>\n",
       "      <td>12446.0</td>\n",
       "      <td>2008-08-15 16:27:32</td>\n",
       "      <td>6.0</td>\n",
       "      <td>64.0</td>\n",
       "      <td>1.0</td>\n",
       "      <td>5.0</td>\n",
       "      <td>stackoverflow</td>\n",
       "    </tr>\n",
       "  </tbody>\n",
       "</table>\n",
       "<p>5 rows × 24 columns</p>\n",
       "</div>"
      ],
      "text/plain": [
       "   Unnamed: 0  id  owneruserid  posttypeid         creationdate  \\\n",
       "0           0   4            8           1  2008-07-31 21:42:53   \n",
       "1           1   6            9           1  2008-07-31 22:08:09   \n",
       "2           2   9            1           1  2008-07-31 23:41:00   \n",
       "3           3  11            1           1  2008-07-31 23:55:38   \n",
       "4           4  13            9           1  2008-08-01 00:42:39   \n",
       "\n",
       "   CreationDayOfWeek  acceptedanswerid  score  answercount  viewcount  \\\n",
       "0                  5               7.0    491           13      31416   \n",
       "1                  5              31.0    217            5      14712   \n",
       "2                  5            1404.0   1509           58     388201   \n",
       "3                  5            1248.0   1182           33     120658   \n",
       "4                  6               NaN    482           24     138485   \n",
       "\n",
       "       ...        CommentCount  FavoriteCount           site acceptedAnswerId  \\\n",
       "0      ...                   4             37  stackoverflow              7.0   \n",
       "1      ...                   0              8  stackoverflow             31.0   \n",
       "2      ...                   6            341  stackoverflow           1404.0   \n",
       "3      ...                   3            517  stackoverflow           1248.0   \n",
       "4      ...                   3            123  stackoverflow          12446.0   \n",
       "\n",
       "   acceptedAnswerCreationDate  acceptedAnswerCreationDayOfWeek  \\\n",
       "0         2008-07-31 22:17:58                              5.0   \n",
       "1         2008-08-01 12:22:52                              6.0   \n",
       "2         2008-08-04 16:50:06                              2.0   \n",
       "3         2008-08-04 13:57:26                              2.0   \n",
       "4         2008-08-15 16:27:32                              6.0   \n",
       "\n",
       "  acceptedAnswerScore  acceptedAnswerCommentCount acceptedAnswerOwnerUserId  \\\n",
       "0               349.0                         1.0                       9.0   \n",
       "1               111.0                         0.0                       0.0   \n",
       "2              1403.0                        30.0                     212.0   \n",
       "3               792.0                        16.0                     268.0   \n",
       "4                64.0                         1.0                       5.0   \n",
       "\n",
       "          site.1  \n",
       "0  stackoverflow  \n",
       "1  stackoverflow  \n",
       "2  stackoverflow  \n",
       "3  stackoverflow  \n",
       "4  stackoverflow  \n",
       "\n",
       "[5 rows x 24 columns]"
      ]
     },
     "execution_count": 31,
     "metadata": {},
     "output_type": "execute_result"
    }
   ],
   "source": [
    "df2.head()"
   ]
  },
  {
   "cell_type": "code",
   "execution_count": 32,
   "metadata": {},
   "outputs": [
    {
     "data": {
      "text/plain": [
       "14015379"
      ]
     },
     "execution_count": 32,
     "metadata": {},
     "output_type": "execute_result"
    }
   ],
   "source": [
    "# count the number of total rows:\n",
    "len(df2)"
   ]
  },
  {
   "cell_type": "code",
   "execution_count": 33,
   "metadata": {},
   "outputs": [
    {
     "data": {
      "text/plain": [
       "Index(['Unnamed: 0', 'id', 'owneruserid', 'posttypeid', 'creationdate',\n",
       "       'CreationDayOfWeek', 'acceptedanswerid', 'score', 'answercount',\n",
       "       'viewcount', 'owneruserid.1', 'lasteditoruserid', 'lasteditdate',\n",
       "       'LastActivityDate', 'CommentCount', 'FavoriteCount', 'site',\n",
       "       'acceptedAnswerId', 'acceptedAnswerCreationDate',\n",
       "       'acceptedAnswerCreationDayOfWeek', 'acceptedAnswerScore',\n",
       "       'acceptedAnswerCommentCount', 'acceptedAnswerOwnerUserId', 'site.1'],\n",
       "      dtype='object')"
      ]
     },
     "execution_count": 33,
     "metadata": {},
     "output_type": "execute_result"
    }
   ],
   "source": [
    "# list the columns\n",
    "df2.columns"
   ]
  },
  {
   "cell_type": "code",
   "execution_count": 34,
   "metadata": {},
   "outputs": [
    {
     "data": {
      "text/plain": [
       "CreationDayOfWeek\n",
       "1    1.538740\n",
       "2    1.564522\n",
       "3    1.581523\n",
       "4    1.579910\n",
       "5    1.579372\n",
       "6    1.590603\n",
       "7    1.547162\n",
       "Name: answercount, dtype: float64"
      ]
     },
     "execution_count": 34,
     "metadata": {},
     "output_type": "execute_result"
    }
   ],
   "source": [
    "# compute the average number of answers for each day of the week\n",
    "df2.groupby(df2.CreationDayOfWeek).answercount.mean().compute()"
   ]
  },
  {
   "cell_type": "code",
   "execution_count": 35,
   "metadata": {},
   "outputs": [
    {
     "data": {
      "text/plain": [
       "0    2008-07-31 21:42:53\n",
       "1    2008-07-31 22:08:09\n",
       "2    2008-07-31 23:41:00\n",
       "3    2008-07-31 23:55:38\n",
       "4    2008-08-01 00:42:39\n",
       "Name: creationdate, dtype: object"
      ]
     },
     "execution_count": 35,
     "metadata": {},
     "output_type": "execute_result"
    }
   ],
   "source": [
    "df2.creationdate.head()"
   ]
  },
  {
   "cell_type": "code",
   "execution_count": 36,
   "metadata": {
    "collapsed": true
   },
   "outputs": [],
   "source": [
    "import datetime\n",
    "import pandas as pd"
   ]
  },
  {
   "cell_type": "code",
   "execution_count": 37,
   "metadata": {},
   "outputs": [
    {
     "name": "stderr",
     "output_type": "stream",
     "text": [
      "/root/anaconda3/lib/python3.6/site-packages/dask/dataframe/core.py:2637: UserWarning: `meta` is not specified, inferred from partial data. Please provide `meta` if the result is unexpected.\n",
      "  Before: .apply(func)\n",
      "  After:  .apply(func, meta={'x': 'f8', 'y': 'f8'}) for dataframe result\n",
      "  or:     .apply(func, meta=('x', 'f8'))            for series result\n",
      "  warnings.warn(msg)\n"
     ]
    },
    {
     "data": {
      "application/vnd.jupyter.widget-view+json": {
       "model_id": "485471e4ad1047afb1b8cab8997600ab"
      }
     },
     "metadata": {},
     "output_type": "display_data"
    }
   ],
   "source": [
    "def to_datetime(row, col=\"creationdate\"):\n",
    "    try:\n",
    "        return datetime.datetime.strptime(row[col], '%Y-%m-%d %H:%M:%S')\n",
    "    except ValueError:\n",
    "        # return a future date for easy discard\n",
    "        return datetime.datetime.strptime('2020-01-01 12:00:00', '%Y-%m-%d %H:%M:%S')\n",
    "\n",
    "def to_hour(row, col=\"creationDateTime\"):\n",
    "    # covert a datetime row to the hour\n",
    "    return row[col].hour\n",
    "\n",
    "def time_to_answer(row):\n",
    "    try:\n",
    "        td = datetime.datetime.strptime(row['acceptedAnswerCreationDate'], '%Y-%m-%d %H:%M:%S') - datetime.datetime.strptime(row['creationdate'], '%Y-%m-%d %H:%M:%S')\n",
    "        return td.total_seconds()\n",
    "    except (ValueError, TypeError):\n",
    "        return None\n",
    "\n",
    "# create a new column with datetime objects built from the creationdatetime field\n",
    "df2[\"creationDateTime\"] = df2.apply (lambda row: to_datetime(row), axis=1)\n",
    "\n",
    "# create a row that holds the creation time hour\n",
    "df2['creationHour'] = df2.apply(lambda row: to_hour(row), axis=1)\n",
    "\n",
    "# create a row that holds the time to answer, in seconds\n",
    "df2['timeToAnswer'] = df2.apply(lambda row: time_to_answer(row), axis=1)\n",
    "\n",
    "client.persist(df2)\n",
    "progress(df2)"
   ]
  },
  {
   "cell_type": "code",
   "execution_count": 38,
   "metadata": {},
   "outputs": [
    {
     "data": {
      "text/plain": [
       "Index(['Unnamed: 0', 'id', 'owneruserid', 'posttypeid', 'creationdate',\n",
       "       'CreationDayOfWeek', 'acceptedanswerid', 'score', 'answercount',\n",
       "       'viewcount', 'owneruserid.1', 'lasteditoruserid', 'lasteditdate',\n",
       "       'LastActivityDate', 'CommentCount', 'FavoriteCount', 'site',\n",
       "       'acceptedAnswerId', 'acceptedAnswerCreationDate',\n",
       "       'acceptedAnswerCreationDayOfWeek', 'acceptedAnswerScore',\n",
       "       'acceptedAnswerCommentCount', 'acceptedAnswerOwnerUserId', 'site.1',\n",
       "       'creationDateTime', 'creationHour', 'timeToAnswer'],\n",
       "      dtype='object')"
      ]
     },
     "execution_count": 38,
     "metadata": {},
     "output_type": "execute_result"
    }
   ],
   "source": [
    "df2.columns"
   ]
  },
  {
   "cell_type": "code",
   "execution_count": 39,
   "metadata": {},
   "outputs": [
    {
     "data": {
      "application/vnd.jupyter.widget-view+json": {
       "model_id": "608785504589440d9893238964852480"
      }
     },
     "metadata": {},
     "output_type": "display_data"
    }
   ],
   "source": [
    "# count how many questions have an accepted answer:\n",
    "df3 = df2[(df2.acceptedanswerid.notnull())]\n",
    "\n",
    "client.persist(df3)\n",
    "progress(df3)"
   ]
  },
  {
   "cell_type": "code",
   "execution_count": 40,
   "metadata": {},
   "outputs": [
    {
     "data": {
      "text/plain": [
       "7561435"
      ]
     },
     "execution_count": 40,
     "metadata": {},
     "output_type": "execute_result"
    }
   ],
   "source": [
    "len(df3)"
   ]
  },
  {
   "cell_type": "code",
   "execution_count": 42,
   "metadata": {},
   "outputs": [
    {
     "data": {
      "text/html": [
       "<div>\n",
       "<style>\n",
       "    .dataframe thead tr:only-child th {\n",
       "        text-align: right;\n",
       "    }\n",
       "\n",
       "    .dataframe thead th {\n",
       "        text-align: left;\n",
       "    }\n",
       "\n",
       "    .dataframe tbody tr th {\n",
       "        vertical-align: top;\n",
       "    }\n",
       "</style>\n",
       "<table border=\"1\" class=\"dataframe\">\n",
       "  <thead>\n",
       "    <tr style=\"text-align: right;\">\n",
       "      <th></th>\n",
       "      <th>Unnamed: 0</th>\n",
       "      <th>id</th>\n",
       "      <th>owneruserid</th>\n",
       "      <th>posttypeid</th>\n",
       "      <th>creationdate</th>\n",
       "      <th>CreationDayOfWeek</th>\n",
       "      <th>acceptedanswerid</th>\n",
       "      <th>score</th>\n",
       "      <th>answercount</th>\n",
       "      <th>viewcount</th>\n",
       "      <th>...</th>\n",
       "      <th>acceptedAnswerId</th>\n",
       "      <th>acceptedAnswerCreationDate</th>\n",
       "      <th>acceptedAnswerCreationDayOfWeek</th>\n",
       "      <th>acceptedAnswerScore</th>\n",
       "      <th>acceptedAnswerCommentCount</th>\n",
       "      <th>acceptedAnswerOwnerUserId</th>\n",
       "      <th>site.1</th>\n",
       "      <th>creationDateTime</th>\n",
       "      <th>creationHour</th>\n",
       "      <th>timeToAnswer</th>\n",
       "    </tr>\n",
       "  </thead>\n",
       "  <tbody>\n",
       "    <tr>\n",
       "      <th>0</th>\n",
       "      <td>0</td>\n",
       "      <td>4</td>\n",
       "      <td>8</td>\n",
       "      <td>1</td>\n",
       "      <td>2008-07-31 21:42:53</td>\n",
       "      <td>5</td>\n",
       "      <td>7.0</td>\n",
       "      <td>491</td>\n",
       "      <td>13</td>\n",
       "      <td>31416</td>\n",
       "      <td>...</td>\n",
       "      <td>7.0</td>\n",
       "      <td>2008-07-31 22:17:58</td>\n",
       "      <td>5.0</td>\n",
       "      <td>349.0</td>\n",
       "      <td>1.0</td>\n",
       "      <td>9.0</td>\n",
       "      <td>stackoverflow</td>\n",
       "      <td>2008-07-31 21:42:53</td>\n",
       "      <td>21</td>\n",
       "      <td>2105.0</td>\n",
       "    </tr>\n",
       "    <tr>\n",
       "      <th>1</th>\n",
       "      <td>1</td>\n",
       "      <td>6</td>\n",
       "      <td>9</td>\n",
       "      <td>1</td>\n",
       "      <td>2008-07-31 22:08:09</td>\n",
       "      <td>5</td>\n",
       "      <td>31.0</td>\n",
       "      <td>217</td>\n",
       "      <td>5</td>\n",
       "      <td>14712</td>\n",
       "      <td>...</td>\n",
       "      <td>31.0</td>\n",
       "      <td>2008-08-01 12:22:52</td>\n",
       "      <td>6.0</td>\n",
       "      <td>111.0</td>\n",
       "      <td>0.0</td>\n",
       "      <td>0.0</td>\n",
       "      <td>stackoverflow</td>\n",
       "      <td>2008-07-31 22:08:09</td>\n",
       "      <td>22</td>\n",
       "      <td>51283.0</td>\n",
       "    </tr>\n",
       "    <tr>\n",
       "      <th>2</th>\n",
       "      <td>2</td>\n",
       "      <td>9</td>\n",
       "      <td>1</td>\n",
       "      <td>1</td>\n",
       "      <td>2008-07-31 23:41:00</td>\n",
       "      <td>5</td>\n",
       "      <td>1404.0</td>\n",
       "      <td>1509</td>\n",
       "      <td>58</td>\n",
       "      <td>388201</td>\n",
       "      <td>...</td>\n",
       "      <td>1404.0</td>\n",
       "      <td>2008-08-04 16:50:06</td>\n",
       "      <td>2.0</td>\n",
       "      <td>1403.0</td>\n",
       "      <td>30.0</td>\n",
       "      <td>212.0</td>\n",
       "      <td>stackoverflow</td>\n",
       "      <td>2008-07-31 23:41:00</td>\n",
       "      <td>23</td>\n",
       "      <td>320946.0</td>\n",
       "    </tr>\n",
       "    <tr>\n",
       "      <th>3</th>\n",
       "      <td>3</td>\n",
       "      <td>11</td>\n",
       "      <td>1</td>\n",
       "      <td>1</td>\n",
       "      <td>2008-07-31 23:55:38</td>\n",
       "      <td>5</td>\n",
       "      <td>1248.0</td>\n",
       "      <td>1182</td>\n",
       "      <td>33</td>\n",
       "      <td>120658</td>\n",
       "      <td>...</td>\n",
       "      <td>1248.0</td>\n",
       "      <td>2008-08-04 13:57:26</td>\n",
       "      <td>2.0</td>\n",
       "      <td>792.0</td>\n",
       "      <td>16.0</td>\n",
       "      <td>268.0</td>\n",
       "      <td>stackoverflow</td>\n",
       "      <td>2008-07-31 23:55:38</td>\n",
       "      <td>23</td>\n",
       "      <td>309708.0</td>\n",
       "    </tr>\n",
       "    <tr>\n",
       "      <th>6</th>\n",
       "      <td>6</td>\n",
       "      <td>16</td>\n",
       "      <td>2</td>\n",
       "      <td>1</td>\n",
       "      <td>2008-08-01 04:59:34</td>\n",
       "      <td>6</td>\n",
       "      <td>12446.0</td>\n",
       "      <td>91</td>\n",
       "      <td>5</td>\n",
       "      <td>74191</td>\n",
       "      <td>...</td>\n",
       "      <td>531.0</td>\n",
       "      <td>2008-08-02 18:22:53</td>\n",
       "      <td>7.0</td>\n",
       "      <td>162.0</td>\n",
       "      <td>2.0</td>\n",
       "      <td>157.0</td>\n",
       "      <td>stackoverflow</td>\n",
       "      <td>2008-08-01 04:59:34</td>\n",
       "      <td>4</td>\n",
       "      <td>134599.0</td>\n",
       "    </tr>\n",
       "  </tbody>\n",
       "</table>\n",
       "<p>5 rows × 27 columns</p>\n",
       "</div>"
      ],
      "text/plain": [
       "   Unnamed: 0  id  owneruserid  posttypeid         creationdate  \\\n",
       "0           0   4            8           1  2008-07-31 21:42:53   \n",
       "1           1   6            9           1  2008-07-31 22:08:09   \n",
       "2           2   9            1           1  2008-07-31 23:41:00   \n",
       "3           3  11            1           1  2008-07-31 23:55:38   \n",
       "6           6  16            2           1  2008-08-01 04:59:34   \n",
       "\n",
       "   CreationDayOfWeek  acceptedanswerid  score  answercount  viewcount  \\\n",
       "0                  5               7.0    491           13      31416   \n",
       "1                  5              31.0    217            5      14712   \n",
       "2                  5            1404.0   1509           58     388201   \n",
       "3                  5            1248.0   1182           33     120658   \n",
       "6                  6           12446.0     91            5      74191   \n",
       "\n",
       "       ...       acceptedAnswerId  acceptedAnswerCreationDate  \\\n",
       "0      ...                    7.0         2008-07-31 22:17:58   \n",
       "1      ...                   31.0         2008-08-01 12:22:52   \n",
       "2      ...                 1404.0         2008-08-04 16:50:06   \n",
       "3      ...                 1248.0         2008-08-04 13:57:26   \n",
       "6      ...                  531.0         2008-08-02 18:22:53   \n",
       "\n",
       "  acceptedAnswerCreationDayOfWeek acceptedAnswerScore  \\\n",
       "0                             5.0               349.0   \n",
       "1                             6.0               111.0   \n",
       "2                             2.0              1403.0   \n",
       "3                             2.0               792.0   \n",
       "6                             7.0               162.0   \n",
       "\n",
       "   acceptedAnswerCommentCount  acceptedAnswerOwnerUserId         site.1  \\\n",
       "0                         1.0                        9.0  stackoverflow   \n",
       "1                         0.0                        0.0  stackoverflow   \n",
       "2                        30.0                      212.0  stackoverflow   \n",
       "3                        16.0                      268.0  stackoverflow   \n",
       "6                         2.0                      157.0  stackoverflow   \n",
       "\n",
       "     creationDateTime creationHour  timeToAnswer  \n",
       "0 2008-07-31 21:42:53           21        2105.0  \n",
       "1 2008-07-31 22:08:09           22       51283.0  \n",
       "2 2008-07-31 23:41:00           23      320946.0  \n",
       "3 2008-07-31 23:55:38           23      309708.0  \n",
       "6 2008-08-01 04:59:34            4      134599.0  \n",
       "\n",
       "[5 rows x 27 columns]"
      ]
     },
     "execution_count": 42,
     "metadata": {},
     "output_type": "execute_result"
    }
   ],
   "source": [
    "df3.head()"
   ]
  },
  {
   "cell_type": "code",
   "execution_count": 41,
   "metadata": {},
   "outputs": [
    {
     "ename": "ValueError",
     "evalue": "Metadata inference failed in `lt`.\n\nOriginal error is below:\n------------------------\nTypeError(\"'<' not supported between instances of 'str' and 'int'\",)\n\nTraceback:\n---------\n  File \"/root/anaconda3/lib/python3.6/site-packages/dask/dataframe/utils.py\", line 158, in raise_on_meta_error\n    yield\n  File \"/root/anaconda3/lib/python3.6/site-packages/dask/dataframe/core.py\", line 3087, in _emulate\n    return func(*_extract_meta(args, True), **_extract_meta(kwargs, True))\n  File \"/root/anaconda3/lib/python3.6/site-packages/pandas/core/ops.py\", line 861, in wrapper\n    res = na_op(values, other)\n  File \"/root/anaconda3/lib/python3.6/site-packages/pandas/core/ops.py\", line 765, in na_op\n    result = _comp_method_OBJECT_ARRAY(op, x, y)\n  File \"/root/anaconda3/lib/python3.6/site-packages/pandas/core/ops.py\", line 745, in _comp_method_OBJECT_ARRAY\n    result = lib.scalar_compare(x, y, op)\n  File \"pandas/_libs/lib.pyx\", line 769, in pandas._libs.lib.scalar_compare (pandas/_libs/lib.c:13713)\n",
     "output_type": "error",
     "traceback": [
      "\u001b[0;31m-----------------------------------------------------------------\u001b[0m",
      "\u001b[0;31mTypeError\u001b[0m                       Traceback (most recent call last)",
      "\u001b[0;32m/root/anaconda3/lib/python3.6/site-packages/dask/dataframe/utils.py\u001b[0m in \u001b[0;36mraise_on_meta_error\u001b[0;34m(funcname)\u001b[0m\n\u001b[1;32m    157\u001b[0m     \u001b[0;32mtry\u001b[0m\u001b[0;34m:\u001b[0m\u001b[0;34m\u001b[0m\u001b[0m\n\u001b[0;32m--> 158\u001b[0;31m         \u001b[0;32myield\u001b[0m\u001b[0;34m\u001b[0m\u001b[0m\n\u001b[0m\u001b[1;32m    159\u001b[0m     \u001b[0;32mexcept\u001b[0m \u001b[0mException\u001b[0m \u001b[0;32mas\u001b[0m \u001b[0me\u001b[0m\u001b[0;34m:\u001b[0m\u001b[0;34m\u001b[0m\u001b[0m\n",
      "\u001b[0;32m/root/anaconda3/lib/python3.6/site-packages/dask/dataframe/core.py\u001b[0m in \u001b[0;36m_emulate\u001b[0;34m(func, *args, **kwargs)\u001b[0m\n\u001b[1;32m   3086\u001b[0m     \u001b[0;32mwith\u001b[0m \u001b[0mraise_on_meta_error\u001b[0m\u001b[0;34m(\u001b[0m\u001b[0mfuncname\u001b[0m\u001b[0;34m(\u001b[0m\u001b[0mfunc\u001b[0m\u001b[0;34m)\u001b[0m\u001b[0;34m)\u001b[0m\u001b[0;34m:\u001b[0m\u001b[0;34m\u001b[0m\u001b[0m\n\u001b[0;32m-> 3087\u001b[0;31m         \u001b[0;32mreturn\u001b[0m \u001b[0mfunc\u001b[0m\u001b[0;34m(\u001b[0m\u001b[0;34m*\u001b[0m\u001b[0m_extract_meta\u001b[0m\u001b[0;34m(\u001b[0m\u001b[0margs\u001b[0m\u001b[0;34m,\u001b[0m \u001b[0;32mTrue\u001b[0m\u001b[0;34m)\u001b[0m\u001b[0;34m,\u001b[0m \u001b[0;34m**\u001b[0m\u001b[0m_extract_meta\u001b[0m\u001b[0;34m(\u001b[0m\u001b[0mkwargs\u001b[0m\u001b[0;34m,\u001b[0m \u001b[0;32mTrue\u001b[0m\u001b[0;34m)\u001b[0m\u001b[0;34m)\u001b[0m\u001b[0;34m\u001b[0m\u001b[0m\n\u001b[0m\u001b[1;32m   3088\u001b[0m \u001b[0;34m\u001b[0m\u001b[0m\n",
      "\u001b[0;32m/root/anaconda3/lib/python3.6/site-packages/pandas/core/ops.py\u001b[0m in \u001b[0;36mwrapper\u001b[0;34m(self, other, axis)\u001b[0m\n\u001b[1;32m    860\u001b[0m             \u001b[0;32mwith\u001b[0m \u001b[0mnp\u001b[0m\u001b[0;34m.\u001b[0m\u001b[0merrstate\u001b[0m\u001b[0;34m(\u001b[0m\u001b[0mall\u001b[0m\u001b[0;34m=\u001b[0m\u001b[0;34m'ignore'\u001b[0m\u001b[0;34m)\u001b[0m\u001b[0;34m:\u001b[0m\u001b[0;34m\u001b[0m\u001b[0m\n\u001b[0;32m--> 861\u001b[0;31m                 \u001b[0mres\u001b[0m \u001b[0;34m=\u001b[0m \u001b[0mna_op\u001b[0m\u001b[0;34m(\u001b[0m\u001b[0mvalues\u001b[0m\u001b[0;34m,\u001b[0m \u001b[0mother\u001b[0m\u001b[0;34m)\u001b[0m\u001b[0;34m\u001b[0m\u001b[0m\n\u001b[0m\u001b[1;32m    862\u001b[0m             \u001b[0;32mif\u001b[0m \u001b[0mis_scalar\u001b[0m\u001b[0;34m(\u001b[0m\u001b[0mres\u001b[0m\u001b[0;34m)\u001b[0m\u001b[0;34m:\u001b[0m\u001b[0;34m\u001b[0m\u001b[0m\n",
      "\u001b[0;32m/root/anaconda3/lib/python3.6/site-packages/pandas/core/ops.py\u001b[0m in \u001b[0;36mna_op\u001b[0;34m(x, y)\u001b[0m\n\u001b[1;32m    764\u001b[0m         \u001b[0;32mif\u001b[0m \u001b[0mis_object_dtype\u001b[0m\u001b[0;34m(\u001b[0m\u001b[0mx\u001b[0m\u001b[0;34m.\u001b[0m\u001b[0mdtype\u001b[0m\u001b[0;34m)\u001b[0m\u001b[0;34m:\u001b[0m\u001b[0;34m\u001b[0m\u001b[0m\n\u001b[0;32m--> 765\u001b[0;31m             \u001b[0mresult\u001b[0m \u001b[0;34m=\u001b[0m \u001b[0m_comp_method_OBJECT_ARRAY\u001b[0m\u001b[0;34m(\u001b[0m\u001b[0mop\u001b[0m\u001b[0;34m,\u001b[0m \u001b[0mx\u001b[0m\u001b[0;34m,\u001b[0m \u001b[0my\u001b[0m\u001b[0;34m)\u001b[0m\u001b[0;34m\u001b[0m\u001b[0m\n\u001b[0m\u001b[1;32m    766\u001b[0m         \u001b[0;32melse\u001b[0m\u001b[0;34m:\u001b[0m\u001b[0;34m\u001b[0m\u001b[0m\n",
      "\u001b[0;32m/root/anaconda3/lib/python3.6/site-packages/pandas/core/ops.py\u001b[0m in \u001b[0;36m_comp_method_OBJECT_ARRAY\u001b[0;34m(op, x, y)\u001b[0m\n\u001b[1;32m    744\u001b[0m     \u001b[0;32melse\u001b[0m\u001b[0;34m:\u001b[0m\u001b[0;34m\u001b[0m\u001b[0m\n\u001b[0;32m--> 745\u001b[0;31m         \u001b[0mresult\u001b[0m \u001b[0;34m=\u001b[0m \u001b[0mlib\u001b[0m\u001b[0;34m.\u001b[0m\u001b[0mscalar_compare\u001b[0m\u001b[0;34m(\u001b[0m\u001b[0mx\u001b[0m\u001b[0;34m,\u001b[0m \u001b[0my\u001b[0m\u001b[0;34m,\u001b[0m \u001b[0mop\u001b[0m\u001b[0;34m)\u001b[0m\u001b[0;34m\u001b[0m\u001b[0m\n\u001b[0m\u001b[1;32m    746\u001b[0m     \u001b[0;32mreturn\u001b[0m \u001b[0mresult\u001b[0m\u001b[0;34m\u001b[0m\u001b[0m\n",
      "\u001b[0;32mpandas/_libs/lib.pyx\u001b[0m in \u001b[0;36mpandas._libs.lib.scalar_compare (pandas/_libs/lib.c:13713)\u001b[0;34m()\u001b[0m\n",
      "\u001b[0;31mTypeError\u001b[0m: '<' not supported between instances of 'str' and 'int'",
      "\nDuring handling of the above exception, another exception occurred:\n",
      "\u001b[0;31mValueError\u001b[0m                      Traceback (most recent call last)",
      "\u001b[0;32m<ipython-input-41-a6a0a78829ec>\u001b[0m in \u001b[0;36m<module>\u001b[0;34m()\u001b[0m\n\u001b[1;32m      4\u001b[0m \u001b[0;31m# iii) one week of the original post?\u001b[0m\u001b[0;34m\u001b[0m\u001b[0;34m\u001b[0m\u001b[0m\n\u001b[1;32m      5\u001b[0m \u001b[0;31m#  iv) two weeks of the original post?\u001b[0m\u001b[0;34m\u001b[0m\u001b[0;34m\u001b[0m\u001b[0m\n\u001b[0;32m----> 6\u001b[0;31m \u001b[0mdf_i\u001b[0m \u001b[0;34m=\u001b[0m \u001b[0mdf3\u001b[0m\u001b[0;34m[\u001b[0m\u001b[0;34m(\u001b[0m\u001b[0mdf3\u001b[0m\u001b[0;34m.\u001b[0m\u001b[0mtimeToAnswer\u001b[0m \u001b[0;34m<\u001b[0m \u001b[0;36m60\u001b[0m\u001b[0;34m*\u001b[0m\u001b[0;36m60\u001b[0m\u001b[0;34m)\u001b[0m\u001b[0;34m]\u001b[0m\u001b[0;34m\u001b[0m\u001b[0m\n\u001b[0m\u001b[1;32m      7\u001b[0m \u001b[0mdf_ii\u001b[0m \u001b[0;34m=\u001b[0m \u001b[0mdf3\u001b[0m\u001b[0;34m[\u001b[0m\u001b[0;34m(\u001b[0m\u001b[0mdf3\u001b[0m\u001b[0;34m.\u001b[0m\u001b[0mtimeToAnswer\u001b[0m \u001b[0;34m<\u001b[0m \u001b[0;36m60\u001b[0m\u001b[0;34m*\u001b[0m\u001b[0;36m60\u001b[0m\u001b[0;34m*\u001b[0m\u001b[0;36m24\u001b[0m\u001b[0;34m)\u001b[0m\u001b[0;34m]\u001b[0m\u001b[0;34m\u001b[0m\u001b[0m\n\u001b[1;32m      8\u001b[0m \u001b[0mdf_iii\u001b[0m \u001b[0;34m=\u001b[0m \u001b[0mdf3\u001b[0m\u001b[0;34m[\u001b[0m\u001b[0;34m(\u001b[0m\u001b[0mdf3\u001b[0m\u001b[0;34m.\u001b[0m\u001b[0mtimeToAnswer\u001b[0m \u001b[0;34m<\u001b[0m \u001b[0;36m60\u001b[0m\u001b[0;34m*\u001b[0m\u001b[0;36m60\u001b[0m\u001b[0;34m*\u001b[0m\u001b[0;36m24\u001b[0m\u001b[0;34m*\u001b[0m\u001b[0;36m7\u001b[0m\u001b[0;34m)\u001b[0m\u001b[0;34m]\u001b[0m\u001b[0;34m\u001b[0m\u001b[0m\n",
      "\u001b[0;32m/root/anaconda3/lib/python3.6/site-packages/dask/dataframe/core.py\u001b[0m in \u001b[0;36m<lambda>\u001b[0;34m(self, other)\u001b[0m\n\u001b[1;32m    998\u001b[0m             \u001b[0;32mreturn\u001b[0m \u001b[0;32mlambda\u001b[0m \u001b[0mself\u001b[0m\u001b[0;34m,\u001b[0m \u001b[0mother\u001b[0m\u001b[0;34m:\u001b[0m \u001b[0melemwise\u001b[0m\u001b[0;34m(\u001b[0m\u001b[0mop\u001b[0m\u001b[0;34m,\u001b[0m \u001b[0mother\u001b[0m\u001b[0;34m,\u001b[0m \u001b[0mself\u001b[0m\u001b[0;34m)\u001b[0m\u001b[0;34m\u001b[0m\u001b[0m\n\u001b[1;32m    999\u001b[0m         \u001b[0;32melse\u001b[0m\u001b[0;34m:\u001b[0m\u001b[0;34m\u001b[0m\u001b[0m\n\u001b[0;32m-> 1000\u001b[0;31m             \u001b[0;32mreturn\u001b[0m \u001b[0;32mlambda\u001b[0m \u001b[0mself\u001b[0m\u001b[0;34m,\u001b[0m \u001b[0mother\u001b[0m\u001b[0;34m:\u001b[0m \u001b[0melemwise\u001b[0m\u001b[0;34m(\u001b[0m\u001b[0mop\u001b[0m\u001b[0;34m,\u001b[0m \u001b[0mself\u001b[0m\u001b[0;34m,\u001b[0m \u001b[0mother\u001b[0m\u001b[0;34m)\u001b[0m\u001b[0;34m\u001b[0m\u001b[0m\n\u001b[0m\u001b[1;32m   1001\u001b[0m \u001b[0;34m\u001b[0m\u001b[0m\n\u001b[1;32m   1002\u001b[0m     def rolling(self, window, min_periods=None, freq=None, center=False,\n",
      "\u001b[0;32m/root/anaconda3/lib/python3.6/site-packages/dask/dataframe/core.py\u001b[0m in \u001b[0;36melemwise\u001b[0;34m(op, *args, **kwargs)\u001b[0m\n\u001b[1;32m   2851\u001b[0m             \u001b[0mmsg\u001b[0m \u001b[0;34m=\u001b[0m \u001b[0;34m'elemwise with 2 or more DataFrames and Scalar is not supported'\u001b[0m\u001b[0;34m\u001b[0m\u001b[0m\n\u001b[1;32m   2852\u001b[0m             \u001b[0;32mraise\u001b[0m \u001b[0mNotImplementedError\u001b[0m\u001b[0;34m(\u001b[0m\u001b[0mmsg\u001b[0m\u001b[0;34m)\u001b[0m\u001b[0;34m\u001b[0m\u001b[0m\n\u001b[0;32m-> 2853\u001b[0;31m         \u001b[0mmeta\u001b[0m \u001b[0;34m=\u001b[0m \u001b[0m_emulate\u001b[0m\u001b[0;34m(\u001b[0m\u001b[0mop\u001b[0m\u001b[0;34m,\u001b[0m \u001b[0;34m*\u001b[0m\u001b[0margs\u001b[0m\u001b[0;34m,\u001b[0m \u001b[0;34m**\u001b[0m\u001b[0mkwargs\u001b[0m\u001b[0;34m)\u001b[0m\u001b[0;34m\u001b[0m\u001b[0m\n\u001b[0m\u001b[1;32m   2854\u001b[0m \u001b[0;34m\u001b[0m\u001b[0m\n\u001b[1;32m   2855\u001b[0m     \u001b[0;32mreturn\u001b[0m \u001b[0mnew_dd_object\u001b[0m\u001b[0;34m(\u001b[0m\u001b[0mdsk\u001b[0m\u001b[0;34m,\u001b[0m \u001b[0m_name\u001b[0m\u001b[0;34m,\u001b[0m \u001b[0mmeta\u001b[0m\u001b[0;34m,\u001b[0m \u001b[0mdivisions\u001b[0m\u001b[0;34m)\u001b[0m\u001b[0;34m\u001b[0m\u001b[0m\n",
      "\u001b[0;32m/root/anaconda3/lib/python3.6/site-packages/dask/dataframe/core.py\u001b[0m in \u001b[0;36m_emulate\u001b[0;34m(func, *args, **kwargs)\u001b[0m\n\u001b[1;32m   3085\u001b[0m     \"\"\"\n\u001b[1;32m   3086\u001b[0m     \u001b[0;32mwith\u001b[0m \u001b[0mraise_on_meta_error\u001b[0m\u001b[0;34m(\u001b[0m\u001b[0mfuncname\u001b[0m\u001b[0;34m(\u001b[0m\u001b[0mfunc\u001b[0m\u001b[0;34m)\u001b[0m\u001b[0;34m)\u001b[0m\u001b[0;34m:\u001b[0m\u001b[0;34m\u001b[0m\u001b[0m\n\u001b[0;32m-> 3087\u001b[0;31m         \u001b[0;32mreturn\u001b[0m \u001b[0mfunc\u001b[0m\u001b[0;34m(\u001b[0m\u001b[0;34m*\u001b[0m\u001b[0m_extract_meta\u001b[0m\u001b[0;34m(\u001b[0m\u001b[0margs\u001b[0m\u001b[0;34m,\u001b[0m \u001b[0;32mTrue\u001b[0m\u001b[0;34m)\u001b[0m\u001b[0;34m,\u001b[0m \u001b[0;34m**\u001b[0m\u001b[0m_extract_meta\u001b[0m\u001b[0;34m(\u001b[0m\u001b[0mkwargs\u001b[0m\u001b[0;34m,\u001b[0m \u001b[0;32mTrue\u001b[0m\u001b[0;34m)\u001b[0m\u001b[0;34m)\u001b[0m\u001b[0;34m\u001b[0m\u001b[0m\n\u001b[0m\u001b[1;32m   3088\u001b[0m \u001b[0;34m\u001b[0m\u001b[0m\n\u001b[1;32m   3089\u001b[0m \u001b[0;34m\u001b[0m\u001b[0m\n",
      "\u001b[0;32m/root/anaconda3/lib/python3.6/contextlib.py\u001b[0m in \u001b[0;36m__exit__\u001b[0;34m(self, type, value, traceback)\u001b[0m\n\u001b[1;32m     98\u001b[0m                 \u001b[0mvalue\u001b[0m \u001b[0;34m=\u001b[0m \u001b[0mtype\u001b[0m\u001b[0;34m(\u001b[0m\u001b[0;34m)\u001b[0m\u001b[0;34m\u001b[0m\u001b[0m\n\u001b[1;32m     99\u001b[0m             \u001b[0;32mtry\u001b[0m\u001b[0;34m:\u001b[0m\u001b[0;34m\u001b[0m\u001b[0m\n\u001b[0;32m--> 100\u001b[0;31m                 \u001b[0mself\u001b[0m\u001b[0;34m.\u001b[0m\u001b[0mgen\u001b[0m\u001b[0;34m.\u001b[0m\u001b[0mthrow\u001b[0m\u001b[0;34m(\u001b[0m\u001b[0mtype\u001b[0m\u001b[0;34m,\u001b[0m \u001b[0mvalue\u001b[0m\u001b[0;34m,\u001b[0m \u001b[0mtraceback\u001b[0m\u001b[0;34m)\u001b[0m\u001b[0;34m\u001b[0m\u001b[0m\n\u001b[0m\u001b[1;32m    101\u001b[0m                 \u001b[0;32mraise\u001b[0m \u001b[0mRuntimeError\u001b[0m\u001b[0;34m(\u001b[0m\u001b[0;34m\"generator didn't stop after throw()\"\u001b[0m\u001b[0;34m)\u001b[0m\u001b[0;34m\u001b[0m\u001b[0m\n\u001b[1;32m    102\u001b[0m             \u001b[0;32mexcept\u001b[0m \u001b[0mStopIteration\u001b[0m \u001b[0;32mas\u001b[0m \u001b[0mexc\u001b[0m\u001b[0;34m:\u001b[0m\u001b[0;34m\u001b[0m\u001b[0m\n",
      "\u001b[0;32m/root/anaconda3/lib/python3.6/site-packages/dask/dataframe/utils.py\u001b[0m in \u001b[0;36mraise_on_meta_error\u001b[0;34m(funcname)\u001b[0m\n\u001b[1;32m    169\u001b[0m                \u001b[0;34m)\u001b[0m\u001b[0;34m.\u001b[0m\u001b[0mformat\u001b[0m\u001b[0;34m(\u001b[0m\u001b[0;34m\" in `{0}`\"\u001b[0m\u001b[0;34m.\u001b[0m\u001b[0mformat\u001b[0m\u001b[0;34m(\u001b[0m\u001b[0mfuncname\u001b[0m\u001b[0;34m)\u001b[0m \u001b[0;32mif\u001b[0m \u001b[0mfuncname\u001b[0m \u001b[0;32melse\u001b[0m \u001b[0;34m\"\"\u001b[0m\u001b[0;34m,\u001b[0m\u001b[0;34m\u001b[0m\u001b[0m\n\u001b[1;32m    170\u001b[0m                         repr(e), tb)\n\u001b[0;32m--> 171\u001b[0;31m         \u001b[0;32mraise\u001b[0m \u001b[0mValueError\u001b[0m\u001b[0;34m(\u001b[0m\u001b[0mmsg\u001b[0m\u001b[0;34m)\u001b[0m\u001b[0;34m\u001b[0m\u001b[0m\n\u001b[0m\u001b[1;32m    172\u001b[0m \u001b[0;34m\u001b[0m\u001b[0m\n\u001b[1;32m    173\u001b[0m \u001b[0;34m\u001b[0m\u001b[0m\n",
      "\u001b[0;31mValueError\u001b[0m: Metadata inference failed in `lt`.\n\nOriginal error is below:\n------------------------\nTypeError(\"'<' not supported between instances of 'str' and 'int'\",)\n\nTraceback:\n---------\n  File \"/root/anaconda3/lib/python3.6/site-packages/dask/dataframe/utils.py\", line 158, in raise_on_meta_error\n    yield\n  File \"/root/anaconda3/lib/python3.6/site-packages/dask/dataframe/core.py\", line 3087, in _emulate\n    return func(*_extract_meta(args, True), **_extract_meta(kwargs, True))\n  File \"/root/anaconda3/lib/python3.6/site-packages/pandas/core/ops.py\", line 861, in wrapper\n    res = na_op(values, other)\n  File \"/root/anaconda3/lib/python3.6/site-packages/pandas/core/ops.py\", line 765, in na_op\n    result = _comp_method_OBJECT_ARRAY(op, x, y)\n  File \"/root/anaconda3/lib/python3.6/site-packages/pandas/core/ops.py\", line 745, in _comp_method_OBJECT_ARRAY\n    result = lib.scalar_compare(x, y, op)\n  File \"pandas/_libs/lib.pyx\", line 769, in pandas._libs.lib.scalar_compare (pandas/_libs/lib.c:13713)\n"
     ]
    }
   ],
   "source": [
    "# what percentage of questions that have an accepted answer got that answer within: \n",
    "#   i) one hour of the original post?\n",
    "#  ii) one day of the original post?\n",
    "# iii) one week of the original post?\n",
    "#  iv) two weeks of the original post?\n",
    "df_i = df3[(df3.timeToAnswer < 60*60)]\n",
    "df_ii = df3[(df3.timeToAnswer < 60*60*24)]\n",
    "df_iii = df3[(df3.timeToAnswer < 60*60*24*7)]\n",
    "df_iv = df3[(df3.timeToAnswer < 60*60*24*7*2)]"
   ]
  },
  {
   "cell_type": "code",
   "execution_count": null,
   "metadata": {
    "collapsed": true
   },
   "outputs": [],
   "source": []
  }
 ],
 "metadata": {
  "kernelspec": {
   "display_name": "Python 3",
   "language": "python",
   "name": "python3"
  },
  "language_info": {
   "codemirror_mode": {
    "name": "ipython",
    "version": 3
   },
   "file_extension": ".py",
   "mimetype": "text/x-python",
   "name": "python",
   "nbconvert_exporter": "python",
   "pygments_lexer": "ipython3",
   "version": "3.6.1"
  }
 },
 "nbformat": 4,
 "nbformat_minor": 2
}
