{
 "cells": [
  {
   "cell_type": "code",
   "execution_count": 79,
   "metadata": {
    "collapsed": true
   },
   "outputs": [],
   "source": [
    "import datetime\n",
    "from dask import dataframe as dd\n",
    "import pandas as pd"
   ]
  },
  {
   "cell_type": "code",
   "execution_count": 80,
   "metadata": {
    "collapsed": true
   },
   "outputs": [],
   "source": [
    "csv = '/home/centos/stackoverflow.csv'"
   ]
  },
  {
   "cell_type": "code",
   "execution_count": 81,
   "metadata": {
    "collapsed": true
   },
   "outputs": [],
   "source": [
    "# load the csv file into a dask dataframe\n",
    "df = dd.read_csv(csv)"
   ]
  },
  {
   "cell_type": "code",
   "execution_count": 82,
   "metadata": {},
   "outputs": [
    {
     "data": {
      "text/plain": [
       "14015379"
      ]
     },
     "execution_count": 82,
     "metadata": {},
     "output_type": "execute_result"
    }
   ],
   "source": [
    "# count the total number of rows\n",
    "len(df)"
   ]
  },
  {
   "cell_type": "code",
   "execution_count": 14,
   "metadata": {},
   "outputs": [
    {
     "data": {
      "text/plain": [
       "Index([u'Unnamed: 0', u'id', u'owneruserid', u'posttypeid', u'creationdate',\n",
       "       u'CreationDayOfWeek', u'acceptedanswerid', u'score', u'answercount',\n",
       "       u'viewcount', u'owneruserid.1', u'lasteditoruserid', u'lasteditdate',\n",
       "       u'LastActivityDate', u'CommentCount', u'FavoriteCount', u'site',\n",
       "       u'acceptedAnswerId', u'acceptedAnswerCreationDate',\n",
       "       u'acceptedAnswerCreationDayOfWeek', u'acceptedAnswerScore',\n",
       "       u'acceptedAnswerCommentCount', u'acceptedAnswerOwnerUserId', u'site.1'],\n",
       "      dtype='object')"
      ]
     },
     "execution_count": 14,
     "metadata": {},
     "output_type": "execute_result"
    }
   ],
   "source": [
    "# list the columns\n",
    "df.columns"
   ]
  },
  {
   "cell_type": "code",
   "execution_count": 7,
   "metadata": {},
   "outputs": [
    {
     "data": {
      "text/plain": [
       "CreationDayOfWeek\n",
       "1    1.538740\n",
       "2    1.564522\n",
       "3    1.581523\n",
       "4    1.579910\n",
       "5    1.579372\n",
       "6    1.590603\n",
       "7    1.547162\n",
       "Name: answercount, dtype: float64"
      ]
     },
     "execution_count": 7,
     "metadata": {},
     "output_type": "execute_result"
    }
   ],
   "source": [
    "# compute the average number of answers for each day of the week\n",
    "df.groupby(df.CreationDayOfWeek).answercount.mean().compute()"
   ]
  },
  {
   "cell_type": "code",
   "execution_count": 16,
   "metadata": {},
   "outputs": [
    {
     "data": {
      "text/plain": [
       "0    2008-07-31 21:42:53\n",
       "1    2008-07-31 22:08:09\n",
       "2    2008-07-31 23:41:00\n",
       "3    2008-07-31 23:55:38\n",
       "4    2008-08-01 00:42:39\n",
       "Name: creationdate, dtype: object"
      ]
     },
     "execution_count": 16,
     "metadata": {},
     "output_type": "execute_result"
    }
   ],
   "source": [
    "df.creationdate.head()"
   ]
  },
  {
   "cell_type": "code",
   "execution_count": 33,
   "metadata": {
    "collapsed": true
   },
   "outputs": [],
   "source": [
    "def to_datetime(row, col=\"creationdate\"):\n",
    "    try:\n",
    "        return datetime.datetime.strptime(row[col], '%Y-%m-%d %H:%M:%S')\n",
    "    except ValueError:\n",
    "        # return a future date for easy discard\n",
    "        return datetime.datetime.strptime('2020-01-01 12:00:00', '%Y-%m-%d %H:%M:%S')\n",
    "\n",
    "# create a new column with datetime objects built from the creationdatetime field\n",
    "df[\"creationDateTime\"] = df.apply (lambda row: to_datetime(row), axis=1)"
   ]
  },
  {
   "cell_type": "code",
   "execution_count": 34,
   "metadata": {},
   "outputs": [
    {
     "data": {
      "text/plain": [
       "Index([u'Unnamed: 0', u'id', u'owneruserid', u'posttypeid', u'creationdate',\n",
       "       u'CreationDayOfWeek', u'acceptedanswerid', u'score', u'answercount',\n",
       "       u'viewcount', u'owneruserid.1', u'lasteditoruserid', u'lasteditdate',\n",
       "       u'LastActivityDate', u'CommentCount', u'FavoriteCount', u'site',\n",
       "       u'acceptedAnswerId', u'acceptedAnswerCreationDate',\n",
       "       u'acceptedAnswerCreationDayOfWeek', u'acceptedAnswerScore',\n",
       "       u'acceptedAnswerCommentCount', u'acceptedAnswerOwnerUserId', u'site.1',\n",
       "       u'creationDateTime'],\n",
       "      dtype='object')"
      ]
     },
     "execution_count": 34,
     "metadata": {},
     "output_type": "execute_result"
    }
   ],
   "source": [
    "df.columns"
   ]
  },
  {
   "cell_type": "code",
   "execution_count": 57,
   "metadata": {
    "collapsed": true
   },
   "outputs": [],
   "source": [
    "small = df.head(1000)"
   ]
  },
  {
   "cell_type": "code",
   "execution_count": 58,
   "metadata": {},
   "outputs": [
    {
     "data": {
      "text/plain": [
       "pandas.core.frame.DataFrame"
      ]
     },
     "execution_count": 58,
     "metadata": {},
     "output_type": "execute_result"
    }
   ],
   "source": [
    "type(small)"
   ]
  },
  {
   "cell_type": "code",
   "execution_count": 59,
   "metadata": {},
   "outputs": [
    {
     "data": {
      "text/plain": [
       "1000"
      ]
     },
     "execution_count": 59,
     "metadata": {},
     "output_type": "execute_result"
    }
   ],
   "source": [
    "len(small)"
   ]
  },
  {
   "cell_type": "code",
   "execution_count": 64,
   "metadata": {},
   "outputs": [
    {
     "data": {
      "text/plain": [
       "Timestamp('2008-07-31 21:42:53')"
      ]
     },
     "execution_count": 64,
     "metadata": {},
     "output_type": "execute_result"
    }
   ],
   "source": [
    "small.creationDateTime.iloc[0]"
   ]
  },
  {
   "cell_type": "code",
   "execution_count": 69,
   "metadata": {},
   "outputs": [
    {
     "data": {
      "text/plain": [
       "True"
      ]
     },
     "execution_count": 69,
     "metadata": {},
     "output_type": "execute_result"
    }
   ],
   "source": [
    "small.creationDateTime.iloc[0] < pd.to_datetime('now')#pd.Timestamp('2018-01-23 00:00:00', tz=None)"
   ]
  },
  {
   "cell_type": "code",
   "execution_count": 68,
   "metadata": {},
   "outputs": [
    {
     "data": {
      "text/plain": [
       "Timestamp('2017-07-15 18:38:05')"
      ]
     },
     "execution_count": 68,
     "metadata": {},
     "output_type": "execute_result"
    }
   ],
   "source": [
    "pd.to_datetime('now')"
   ]
  },
  {
   "cell_type": "code",
   "execution_count": 36,
   "metadata": {
    "collapsed": true
   },
   "outputs": [],
   "source": [
    "# create a row that holds the creation time hour\n",
    "def to_hour(row, col=\"creationDateTime\"):\n",
    "    # covert a datetime row to the hour\n",
    "    return row[col].hour\n",
    "\n",
    "df['creationHour'] = df.apply(lambda row: to_hour(row), axis=1)"
   ]
  },
  {
   "cell_type": "code",
   "execution_count": 37,
   "metadata": {},
   "outputs": [
    {
     "data": {
      "text/plain": [
       "Index([u'Unnamed: 0', u'id', u'owneruserid', u'posttypeid', u'creationdate',\n",
       "       u'CreationDayOfWeek', u'acceptedanswerid', u'score', u'answercount',\n",
       "       u'viewcount', u'owneruserid.1', u'lasteditoruserid', u'lasteditdate',\n",
       "       u'LastActivityDate', u'CommentCount', u'FavoriteCount', u'site',\n",
       "       u'acceptedAnswerId', u'acceptedAnswerCreationDate',\n",
       "       u'acceptedAnswerCreationDayOfWeek', u'acceptedAnswerScore',\n",
       "       u'acceptedAnswerCommentCount', u'acceptedAnswerOwnerUserId', u'site.1',\n",
       "       u'creationDateTime', u'creationHour'],\n",
       "      dtype='object')"
      ]
     },
     "execution_count": 37,
     "metadata": {},
     "output_type": "execute_result"
    }
   ],
   "source": [
    "df.columns"
   ]
  },
  {
   "cell_type": "code",
   "execution_count": 70,
   "metadata": {},
   "outputs": [
    {
     "data": {
      "text/plain": [
       "<dask.dataframe.groupby.DataFrameGroupBy at 0x7f5b483d3510>"
      ]
     },
     "execution_count": 70,
     "metadata": {},
     "output_type": "execute_result"
    }
   ],
   "source": [
    "# weed out the bad rows that have a future creation date:\n",
    "df2 = df[(df.creationDateTime < pd.to_datetime('now'))]"
   ]
  },
  {
   "cell_type": "code",
   "execution_count": 71,
   "metadata": {},
   "outputs": [
    {
     "data": {
      "text/plain": [
       "Index([u'Unnamed: 0', u'id', u'owneruserid', u'posttypeid', u'creationdate',\n",
       "       u'CreationDayOfWeek', u'acceptedanswerid', u'score', u'answercount',\n",
       "       u'viewcount', u'owneruserid.1', u'lasteditoruserid', u'lasteditdate',\n",
       "       u'LastActivityDate', u'CommentCount', u'FavoriteCount', u'site',\n",
       "       u'acceptedAnswerId', u'acceptedAnswerCreationDate',\n",
       "       u'acceptedAnswerCreationDayOfWeek', u'acceptedAnswerScore',\n",
       "       u'acceptedAnswerCommentCount', u'acceptedAnswerOwnerUserId', u'site.1',\n",
       "       u'creationDateTime', u'creationHour'],\n",
       "      dtype='object')"
      ]
     },
     "execution_count": 71,
     "metadata": {},
     "output_type": "execute_result"
    }
   ],
   "source": [
    "df2.columns"
   ]
  },
  {
   "cell_type": "code",
   "execution_count": 72,
   "metadata": {},
   "outputs": [
    {
     "data": {
      "text/plain": [
       "14015379"
      ]
     },
     "execution_count": 72,
     "metadata": {},
     "output_type": "execute_result"
    }
   ],
   "source": [
    "len(df2)"
   ]
  },
  {
   "cell_type": "code",
   "execution_count": null,
   "metadata": {
    "collapsed": true
   },
   "outputs": [],
   "source": [
    "# with the new dataframe, compute the number of questions by hour\n",
    "df2.groupby(df2.creationHour).compute()"
   ]
  },
  {
   "cell_type": "code",
   "execution_count": 73,
   "metadata": {
    "collapsed": true
   },
   "outputs": [],
   "source": [
    "df3 = df[(df.acceptedanswerid == pd.isnull)]"
   ]
  },
  {
   "cell_type": "code",
   "execution_count": 74,
   "metadata": {},
   "outputs": [
    {
     "data": {
      "text/plain": [
       "0"
      ]
     },
     "execution_count": 74,
     "metadata": {},
     "output_type": "execute_result"
    }
   ],
   "source": [
    "len(df3)"
   ]
  },
  {
   "cell_type": "code",
   "execution_count": null,
   "metadata": {
    "collapsed": true
   },
   "outputs": [],
   "source": []
  }
 ],
 "metadata": {
  "kernelspec": {
   "display_name": "Python 2",
   "language": "python",
   "name": "python2"
  },
  "language_info": {
   "codemirror_mode": {
    "name": "ipython",
    "version": 2
   },
   "file_extension": ".py",
   "mimetype": "text/x-python",
   "name": "python",
   "nbconvert_exporter": "python",
   "pygments_lexer": "ipython2",
   "version": "2.7.13"
  }
 },
 "nbformat": 4,
 "nbformat_minor": 2
}
